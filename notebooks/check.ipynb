{
 "cells": [
  {
   "cell_type": "code",
   "execution_count": 4,
   "metadata": {},
   "outputs": [],
   "source": [
    "import glob\n",
    "\n",
    "import PyPDF2\n",
    "import os \n",
    "# Open the PDF file in binary mode\n",
    "def read_pdf(file):\n",
    "    with open(file, 'rb') as file:\n",
    "        # Create a PDF reader object\n",
    "        pdf_reader = PyPDF2.PdfReader(file)\n",
    "\n",
    "        # Get the total number of pages in the PDF\n",
    "        num_pages = len(pdf_reader.pages)\n",
    "\n",
    "        pdf_text = \"\"\n",
    "\n",
    "        # Iterate through each page and extract text\n",
    "        for page_number in range(num_pages):\n",
    "            # Get a specific page\n",
    "            page = pdf_reader.pages[page_number]\n",
    "\n",
    "            # Extract text from the page\n",
    "            text = page.extract_text()\n",
    "            pdf_text += text\n",
    "\n",
    "    return pdf_text\n",
    "\n",
    "\n",
    "def get_pdfs(root_folder):\n",
    "    pdf_files = []\n",
    "    for foldername, subfolders, filenames in os.walk(root_folder):\n",
    "        for filename in filenames:\n",
    "            if filename.endswith('.pdf'):\n",
    "                pdf_files.append(os.path.join(foldername, filename))\n",
    "    return pdf_files\n"
   ]
  },
  {
   "cell_type": "code",
   "execution_count": 5,
   "metadata": {},
   "outputs": [
    {
     "name": "stdout",
     "output_type": "stream",
     "text": [
      "1699\n"
     ]
    }
   ],
   "source": [
    "pdfs = get_pdfs(\"C:/Users/User/Box/UTD/PhD Research/RAG-app/Current Cybersecurity Law\")\n",
    "print(len(pdfs))"
   ]
  },
  {
   "cell_type": "code",
   "execution_count": 14,
   "metadata": {},
   "outputs": [
    {
     "name": "stdout",
     "output_type": "stream",
     "text": [
      "C:/Users/User/Box/UTD/PhD Research/RAG-app/Current Cybersecurity Law\\Connecticut\\Insurance\\Conn. Gen. Stat. _ 38a-38.pdf\n",
      "C:/Users/User/Box/UTD/PhD Research/RAG-app/Current Cybersecurity Law\\Delaware\\Insurance\\18 Del. C. _ 8606.pdf\n",
      "C:/Users/User/Box/UTD/PhD Research/RAG-app/Current Cybersecurity Law\\Federal\\Federal Legislation\\Health Insurance Portability and Accountability Act of 1996 (HIPAA)\\HEALTH INSURANCE PORTABILITY.pdf\n",
      "C:/Users/User/Box/UTD/PhD Research/RAG-app/Current Cybersecurity Law\\Illinois\\Insurance\\215 ILCS 215_20.pdf\n",
      "C:/Users/User/Box/UTD/PhD Research/RAG-app/Current Cybersecurity Law\\Indiana\\Insurance\\Burns Ind. Code Ann. _ 27-2-27-21.pdf\n",
      "C:/Users/User/Box/UTD/PhD Research/RAG-app/Current Cybersecurity Law\\Iowa\\Insurance\\Iowa Code _ 507F.7.pdf\n",
      "C:/Users/User/Box/UTD/PhD Research/RAG-app/Current Cybersecurity Law\\Kentucky\\Insurance\\KRS _ 304.3-760.pdf\n",
      "C:/Users/User/Box/UTD/PhD Research/RAG-app/Current Cybersecurity Law\\Louisiana\\Insurance\\La. R.S. _ 22_2231.pdf\n",
      "C:/Users/User/Box/UTD/PhD Research/RAG-app/Current Cybersecurity Law\\Louisiana\\Insurance\\La. R.S. _ 22_2506.pdf\n",
      "C:/Users/User/Box/UTD/PhD Research/RAG-app/Current Cybersecurity Law\\Maine\\Insurance\\24-A M.R.S. _ 2266.pdf\n",
      "C:/Users/User/Box/UTD/PhD Research/RAG-app/Current Cybersecurity Law\\Maryland\\Insurance\\Md. Insurance Code Ann. _ 33-105.pdf\n",
      "C:/Users/User/Box/UTD/PhD Research/RAG-app/Current Cybersecurity Law\\Michigan\\Insurance\\MCLS _ 500.559.pdf\n",
      "C:/Users/User/Box/UTD/PhD Research/RAG-app/Current Cybersecurity Law\\Minnesota\\Insurance\\Minn. Stat. _ 60A.9853.pdf\n",
      "C:/Users/User/Box/UTD/PhD Research/RAG-app/Current Cybersecurity Law\\Mississippi\\Insurance\\Miss. Code Ann. __83-5-811.pdf\n",
      "C:/Users/User/Box/UTD/PhD Research/RAG-app/Current Cybersecurity Law\\New Hampshire\\Insurance\\RSA 420-P_6.pdf\n",
      "C:/Users/User/Box/UTD/PhD Research/RAG-app/Current Cybersecurity Law\\North Dakota\\Insurance\\N.D. Cent. Code, § 26.1-02.2-05.pdf\n",
      "C:/Users/User/Box/UTD/PhD Research/RAG-app/Current Cybersecurity Law\\Ohio\\Insurance\\ORC Ann. 3965.04.pdf\n",
      "C:/Users/User/Box/UTD/PhD Research/RAG-app/Current Cybersecurity Law\\South Carolina\\Insurance\\S.C. Code Ann. § 38-99-40.pdf\n",
      "C:/Users/User/Box/UTD/PhD Research/RAG-app/Current Cybersecurity Law\\Tennessee\\Insurance\\Tenn. Code Ann. § 56-2-1006.pdf\n",
      "C:/Users/User/Box/UTD/PhD Research/RAG-app/Current Cybersecurity Law\\Virginia\\Insurance\\Va. Code Ann. § 38.2-625.pdf\n",
      "C:/Users/User/Box/UTD/PhD Research/RAG-app/Current Cybersecurity Law\\West Virginia\\Insurance\\W. Va. Code § 33-20-4.pdf\n",
      "C:/Users/User/Box/UTD/PhD Research/RAG-app/Current Cybersecurity Law\\Wisconsin\\Insurance\\Wis. Stat. § 601.954.pdf\n"
     ]
    }
   ],
   "source": [
    "for pdf in pdfs:\n",
    "    if \"insurance\" in pdf.lower():\n",
    "        text = read_pdf(pdf)\n",
    "        if text.lower().find(\"auto\")!=-1:\n",
    "            print(pdf)"
   ]
  },
  {
   "cell_type": "code",
   "execution_count": 13,
   "metadata": {},
   "outputs": [
    {
     "name": "stdout",
     "output_type": "stream",
     "text": [
      "C:/Users/User/Box/UTD/PhD Research/RAG-app/Current Cybersecurity Law\\Louisiana\\Insurance\\La. R.S. _ 22_2231.pdf\n",
      "C:/Users/User/Box/UTD/PhD Research/RAG-app/Current Cybersecurity Law\\West Virginia\\Insurance\\W. Va. Code § 33-20-4.pdf\n"
     ]
    }
   ],
   "source": [
    "for pdf in pdfs:\n",
    "    if \"insurance\" in pdf.lower():\n",
    "        text = read_pdf(pdf)\n",
    "        if text.lower().find(\"vehicle\")!=-1:\n",
    "            print(pdf)"
   ]
  }
 ],
 "metadata": {
  "kernelspec": {
   "display_name": "Python 3",
   "language": "python",
   "name": "python3"
  },
  "language_info": {
   "codemirror_mode": {
    "name": "ipython",
    "version": 3
   },
   "file_extension": ".py",
   "mimetype": "text/x-python",
   "name": "python",
   "nbconvert_exporter": "python",
   "pygments_lexer": "ipython3",
   "version": "3.11.5"
  }
 },
 "nbformat": 4,
 "nbformat_minor": 2
}
