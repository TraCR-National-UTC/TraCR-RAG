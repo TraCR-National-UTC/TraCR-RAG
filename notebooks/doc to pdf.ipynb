{
 "cells": [
  {
   "cell_type": "code",
   "execution_count": null,
   "metadata": {},
   "outputs": [],
   "source": [
    "!python -m pip install docx2pdf\n"
   ]
  },
  {
   "cell_type": "code",
   "execution_count": 2,
   "metadata": {},
   "outputs": [],
   "source": [
    "root_directory = \"C:/Users/User/Box/UTD/PhD Research/RAG-app/Current Cybersecurity Law/Federal\"\n"
   ]
  },
  {
   "cell_type": "code",
   "execution_count": 3,
   "metadata": {},
   "outputs": [
    {
     "name": "stdout",
     "output_type": "stream",
     "text": [
      "Renamed: C:/Users/User/Box/UTD/PhD Research/RAG-app/Current Cybersecurity Law/Federal\\Federal Legislation\\Computer Fraud and Abuse Act (CFAA)\\18 USCS § 1030.DOCX to C:/Users/User/Box/UTD/PhD Research/RAG-app/Current Cybersecurity Law/Federal\\Federal Legislation\\Computer Fraud and Abuse Act (CFAA)\\18 USCS § 1030.docx\n",
      "Renamed: C:/Users/User/Box/UTD/PhD Research/RAG-app/Current Cybersecurity Law/Federal\\Federal Legislation\\Cybersecurity and Infrastructure Security Agency\\_ 650. Definitions.docx to C:/Users/User/Box/UTD/PhD Research/RAG-app/Current Cybersecurity Law/Federal\\Federal Legislation\\Cybersecurity and Infrastructure Security Agency\\_ 650. Definitions.docx\n",
      "Renamed: C:/Users/User/Box/UTD/PhD Research/RAG-app/Current Cybersecurity Law/Federal\\Federal Legislation\\Cybersecurity and Infrastructure Security Agency\\_ 651. Definition.docx to C:/Users/User/Box/UTD/PhD Research/RAG-app/Current Cybersecurity Law/Federal\\Federal Legislation\\Cybersecurity and Infrastructure Security Agency\\_ 651. Definition.docx\n",
      "Renamed: C:/Users/User/Box/UTD/PhD Research/RAG-app/Current Cybersecurity Law/Federal\\Federal Legislation\\Cybersecurity and Infrastructure Security Agency\\_ 652. Cybersecurity an.docx to C:/Users/User/Box/UTD/PhD Research/RAG-app/Current Cybersecurity Law/Federal\\Federal Legislation\\Cybersecurity and Infrastructure Security Agency\\_ 652. Cybersecurity an.docx\n",
      "Renamed: C:/Users/User/Box/UTD/PhD Research/RAG-app/Current Cybersecurity Law/Federal\\Federal Legislation\\Cybersecurity and Infrastructure Security Agency\\_ 652. Cybersecurity and Infrastructure Security Agency.docx to C:/Users/User/Box/UTD/PhD Research/RAG-app/Current Cybersecurity Law/Federal\\Federal Legislation\\Cybersecurity and Infrastructure Security Agency\\_ 652. Cybersecurity and Infrastructure Security Agency.docx\n",
      "Renamed: C:/Users/User/Box/UTD/PhD Research/RAG-app/Current Cybersecurity Law/Federal\\Federal Legislation\\Cybersecurity and Infrastructure Security Agency\\_ 652. Cybersecurity and Infrastructure.docx to C:/Users/User/Box/UTD/PhD Research/RAG-app/Current Cybersecurity Law/Federal\\Federal Legislation\\Cybersecurity and Infrastructure Security Agency\\_ 652. Cybersecurity and Infrastructure.docx\n",
      "Renamed: C:/Users/User/Box/UTD/PhD Research/RAG-app/Current Cybersecurity Law/Federal\\Federal Legislation\\Cybersecurity and Infrastructure Security Agency\\_ 652a. Sector risk management agencies.docx to C:/Users/User/Box/UTD/PhD Research/RAG-app/Current Cybersecurity Law/Federal\\Federal Legislation\\Cybersecurity and Infrastructure Security Agency\\_ 652a. Sector risk management agencies.docx\n",
      "Renamed: C:/Users/User/Box/UTD/PhD Research/RAG-app/Current Cybersecurity Law/Federal\\Federal Legislation\\Cybersecurity and Infrastructure Security Agency\\_ 653. Cybersecurity division.docx to C:/Users/User/Box/UTD/PhD Research/RAG-app/Current Cybersecurity Law/Federal\\Federal Legislation\\Cybersecurity and Infrastructure Security Agency\\_ 653. Cybersecurity division.docx\n",
      "Renamed: C:/Users/User/Box/UTD/PhD Research/RAG-app/Current Cybersecurity Law/Federal\\Federal Legislation\\Cybersecurity and Infrastructure Security Agency\\_ 654. Infrastructure security division.docx to C:/Users/User/Box/UTD/PhD Research/RAG-app/Current Cybersecurity Law/Federal\\Federal Legislation\\Cybersecurity and Infrastructure Security Agency\\_ 654. Infrastructure security division.docx\n",
      "Renamed: C:/Users/User/Box/UTD/PhD Research/RAG-app/Current Cybersecurity Law/Federal\\Federal Legislation\\Cybersecurity and Infrastructure Security Agency\\_ 655. Enhancement of Federal and non-Federal cybersecurity.docx to C:/Users/User/Box/UTD/PhD Research/RAG-app/Current Cybersecurity Law/Federal\\Federal Legislation\\Cybersecurity and Infrastructure Security Agency\\_ 655. Enhancement of Federal and non-Federal cybersecurity.docx\n",
      "Renamed: C:/Users/User/Box/UTD/PhD Research/RAG-app/Current Cybersecurity Law/Federal\\Federal Legislation\\Cybersecurity and Infrastructure Security Agency\\_ 656. NET Guard.docx to C:/Users/User/Box/UTD/PhD Research/RAG-app/Current Cybersecurity Law/Federal\\Federal Legislation\\Cybersecurity and Infrastructure Security Agency\\_ 656. NET Guard.docx\n",
      "Renamed: C:/Users/User/Box/UTD/PhD Research/RAG-app/Current Cybersecurity Law/Federal\\Federal Legislation\\Cybersecurity and Infrastructure Security Agency\\_ 657. Cyber Security Enhancement Act of 2002.docx to C:/Users/User/Box/UTD/PhD Research/RAG-app/Current Cybersecurity Law/Federal\\Federal Legislation\\Cybersecurity and Infrastructure Security Agency\\_ 657. Cyber Security Enhancement Act of 2002.docx\n",
      "Renamed: C:/Users/User/Box/UTD/PhD Research/RAG-app/Current Cybersecurity Law/Federal\\Federal Legislation\\Cybersecurity and Infrastructure Security Agency\\_ 658. Cybersecurity recruitment and retention.docx to C:/Users/User/Box/UTD/PhD Research/RAG-app/Current Cybersecurity Law/Federal\\Federal Legislation\\Cybersecurity and Infrastructure Security Agency\\_ 658. Cybersecurity recruitment and retention.docx\n",
      "Renamed: C:/Users/User/Box/UTD/PhD Research/RAG-app/Current Cybersecurity Law/Federal\\Federal Legislation\\Cybersecurity and Infrastructure Security Agency\\_ 659. National cybersecurity and communications.docx to C:/Users/User/Box/UTD/PhD Research/RAG-app/Current Cybersecurity Law/Federal\\Federal Legislation\\Cybersecurity and Infrastructure Security Agency\\_ 659. National cybersecurity and communications.docx\n",
      "Renamed: C:/Users/User/Box/UTD/PhD Research/RAG-app/Current Cybersecurity Law/Federal\\Federal Legislation\\Cybersecurity and Infrastructure Security Agency\\_ 660. Cybersecurity plans.docx to C:/Users/User/Box/UTD/PhD Research/RAG-app/Current Cybersecurity Law/Federal\\Federal Legislation\\Cybersecurity and Infrastructure Security Agency\\_ 660. Cybersecurity plans.docx\n",
      "Renamed: C:/Users/User/Box/UTD/PhD Research/RAG-app/Current Cybersecurity Law/Federal\\Federal Legislation\\Cybersecurity and Infrastructure Security Agency\\_ 661. Cybersecurity strategy.docx to C:/Users/User/Box/UTD/PhD Research/RAG-app/Current Cybersecurity Law/Federal\\Federal Legislation\\Cybersecurity and Infrastructure Security Agency\\_ 661. Cybersecurity strategy.docx\n",
      "Renamed: C:/Users/User/Box/UTD/PhD Research/RAG-app/Current Cybersecurity Law/Federal\\Federal Legislation\\Cybersecurity and Infrastructure Security Agency\\_ 662. Clearances.docx to C:/Users/User/Box/UTD/PhD Research/RAG-app/Current Cybersecurity Law/Federal\\Federal Legislation\\Cybersecurity and Infrastructure Security Agency\\_ 662. Clearances.docx\n",
      "Renamed: C:/Users/User/Box/UTD/PhD Research/RAG-app/Current Cybersecurity Law/Federal\\Federal Legislation\\Cybersecurity and Infrastructure Security Agency\\_ 663. Federal intrusion detection and prevention system.docx to C:/Users/User/Box/UTD/PhD Research/RAG-app/Current Cybersecurity Law/Federal\\Federal Legislation\\Cybersecurity and Infrastructure Security Agency\\_ 663. Federal intrusion detection and prevention system.docx\n",
      "Renamed: C:/Users/User/Box/UTD/PhD Research/RAG-app/Current Cybersecurity Law/Federal\\Federal Legislation\\Cybersecurity and Infrastructure Security Agency\\_ 664. National asset database.docx to C:/Users/User/Box/UTD/PhD Research/RAG-app/Current Cybersecurity Law/Federal\\Federal Legislation\\Cybersecurity and Infrastructure Security Agency\\_ 664. National asset database.docx\n",
      "Renamed: C:/Users/User/Box/UTD/PhD Research/RAG-app/Current Cybersecurity Law/Federal\\Federal Legislation\\Cybersecurity and Infrastructure Security Agency\\_ 665. Duties and authorities relating to .gov internet domain.docx to C:/Users/User/Box/UTD/PhD Research/RAG-app/Current Cybersecurity Law/Federal\\Federal Legislation\\Cybersecurity and Infrastructure Security Agency\\_ 665. Duties and authorities relating to .gov internet domain.docx\n",
      "Renamed: C:/Users/User/Box/UTD/PhD Research/RAG-app/Current Cybersecurity Law/Federal\\Federal Legislation\\Cybersecurity and Infrastructure Security Agency\\_ 665a. Intelligence and cybersecurity.docx to C:/Users/User/Box/UTD/PhD Research/RAG-app/Current Cybersecurity Law/Federal\\Federal Legislation\\Cybersecurity and Infrastructure Security Agency\\_ 665a. Intelligence and cybersecurity.docx\n",
      "Renamed: C:/Users/User/Box/UTD/PhD Research/RAG-app/Current Cybersecurity Law/Federal\\Federal Legislation\\Cybersecurity and Infrastructure Security Agency\\_ 665b. Joint cyber planning office.docx to C:/Users/User/Box/UTD/PhD Research/RAG-app/Current Cybersecurity Law/Federal\\Federal Legislation\\Cybersecurity and Infrastructure Security Agency\\_ 665b. Joint cyber planning office.docx\n",
      "Renamed: C:/Users/User/Box/UTD/PhD Research/RAG-app/Current Cybersecurity Law/Federal\\Federal Legislation\\Cybersecurity and Infrastructure Security Agency\\_ 665c. Cybersecurity State Coordinator.docx to C:/Users/User/Box/UTD/PhD Research/RAG-app/Current Cybersecurity Law/Federal\\Federal Legislation\\Cybersecurity and Infrastructure Security Agency\\_ 665c. Cybersecurity State Coordinator.docx\n",
      "Renamed: C:/Users/User/Box/UTD/PhD Research/RAG-app/Current Cybersecurity Law/Federal\\Federal Legislation\\Cybersecurity and Infrastructure Security Agency\\_ 665d. Sector Risk Management Agencies.docx to C:/Users/User/Box/UTD/PhD Research/RAG-app/Current Cybersecurity Law/Federal\\Federal Legislation\\Cybersecurity and Infrastructure Security Agency\\_ 665d. Sector Risk Management Agencies.docx\n",
      "Renamed: C:/Users/User/Box/UTD/PhD Research/RAG-app/Current Cybersecurity Law/Federal\\Federal Legislation\\Cybersecurity and Infrastructure Security Agency\\_ 665e. Cybersecurity Advisory Committee.docx to C:/Users/User/Box/UTD/PhD Research/RAG-app/Current Cybersecurity Law/Federal\\Federal Legislation\\Cybersecurity and Infrastructure Security Agency\\_ 665e. Cybersecurity Advisory Committee.docx\n",
      "Renamed: C:/Users/User/Box/UTD/PhD Research/RAG-app/Current Cybersecurity Law/Federal\\Federal Legislation\\Cybersecurity and Infrastructure Security Agency\\_ 665f. Cybersecurity education and training programs.docx to C:/Users/User/Box/UTD/PhD Research/RAG-app/Current Cybersecurity Law/Federal\\Federal Legislation\\Cybersecurity and Infrastructure Security Agency\\_ 665f. Cybersecurity education and training programs.docx\n",
      "Renamed: C:/Users/User/Box/UTD/PhD Research/RAG-app/Current Cybersecurity Law/Federal\\Federal Legislation\\Cybersecurity and Infrastructure Security Agency\\_ 665g. State and Local Cybersecurity Grant Program.docx to C:/Users/User/Box/UTD/PhD Research/RAG-app/Current Cybersecurity Law/Federal\\Federal Legislation\\Cybersecurity and Infrastructure Security Agency\\_ 665g. State and Local Cybersecurity Grant Program.docx\n",
      "Renamed: C:/Users/User/Box/UTD/PhD Research/RAG-app/Current Cybersecurity Law/Federal\\Federal Legislation\\Cybersecurity and Infrastructure Security Agency\\_ 665h. National Cyber Exercise Program.docx to C:/Users/User/Box/UTD/PhD Research/RAG-app/Current Cybersecurity Law/Federal\\Federal Legislation\\Cybersecurity and Infrastructure Security Agency\\_ 665h. National Cyber Exercise Program.docx\n",
      "Renamed: C:/Users/User/Box/UTD/PhD Research/RAG-app/Current Cybersecurity Law/Federal\\Federal Legislation\\Cybersecurity and Infrastructure Security Agency\\_ 665i. CyberSentry program.docx to C:/Users/User/Box/UTD/PhD Research/RAG-app/Current Cybersecurity Law/Federal\\Federal Legislation\\Cybersecurity and Infrastructure Security Agency\\_ 665i. CyberSentry program.docx\n",
      "Renamed: C:/Users/User/Box/UTD/PhD Research/RAG-app/Current Cybersecurity Law/Federal\\Federal Legislation\\Cybersecurity and Infrastructure Security Agency\\_ 665j. Ransomware threat mitigation activities.docx to C:/Users/User/Box/UTD/PhD Research/RAG-app/Current Cybersecurity Law/Federal\\Federal Legislation\\Cybersecurity and Infrastructure Security Agency\\_ 665j. Ransomware threat mitigation activities.docx\n",
      "Renamed: C:/Users/User/Box/UTD/PhD Research/RAG-app/Current Cybersecurity Law/Federal\\Federal Legislation\\Cybersecurity and Infrastructure Security Agency\\_ 665l. School and daycare protection.docx to C:/Users/User/Box/UTD/PhD Research/RAG-app/Current Cybersecurity Law/Federal\\Federal Legislation\\Cybersecurity and Infrastructure Security Agency\\_ 665l. School and daycare protection.docx\n",
      "Renamed: C:/Users/User/Box/UTD/PhD Research/RAG-app/Current Cybersecurity Law/Federal\\Federal Legislation\\Cybersecurity and Infrastructure Security Agency\\_ 665m. President_s Cup Cybersecurity Competition.docx to C:/Users/User/Box/UTD/PhD Research/RAG-app/Current Cybersecurity Law/Federal\\Federal Legislation\\Cybersecurity and Infrastructure Security Agency\\_ 665m. President_s Cup Cybersecurity Competition.docx\n",
      "Renamed: C:/Users/User/Box/UTD/PhD Research/RAG-app/Current Cybersecurity Law/Federal\\Federal Legislation\\Cybersecurity and Infrastructure Security Agency\\_ 671. Definitions.docx to C:/Users/User/Box/UTD/PhD Research/RAG-app/Current Cybersecurity Law/Federal\\Federal Legislation\\Cybersecurity and Infrastructure Security Agency\\_ 671. Definitions.docx\n",
      "Renamed: C:/Users/User/Box/UTD/PhD Research/RAG-app/Current Cybersecurity Law/Federal\\Federal Legislation\\Cybersecurity and Infrastructure Security Agency\\_ 672. Designation of critical infrastructure protection program.docx to C:/Users/User/Box/UTD/PhD Research/RAG-app/Current Cybersecurity Law/Federal\\Federal Legislation\\Cybersecurity and Infrastructure Security Agency\\_ 672. Designation of critical infrastructure protection program.docx\n",
      "Renamed: C:/Users/User/Box/UTD/PhD Research/RAG-app/Current Cybersecurity Law/Federal\\Federal Legislation\\Cybersecurity and Infrastructure Security Agency\\_ 673. Protection of voluntarily.docx to C:/Users/User/Box/UTD/PhD Research/RAG-app/Current Cybersecurity Law/Federal\\Federal Legislation\\Cybersecurity and Infrastructure Security Agency\\_ 673. Protection of voluntarily.docx\n",
      "Renamed: C:/Users/User/Box/UTD/PhD Research/RAG-app/Current Cybersecurity Law/Federal\\Federal Legislation\\Cybersecurity and Infrastructure Security Agency\\_ 674. No private right of action.docx to C:/Users/User/Box/UTD/PhD Research/RAG-app/Current Cybersecurity Law/Federal\\Federal Legislation\\Cybersecurity and Infrastructure Security Agency\\_ 674. No private right of action.docx\n",
      "Renamed: C:/Users/User/Box/UTD/PhD Research/RAG-app/Current Cybersecurity Law/Federal\\Federal Legislation\\Cybersecurity and Infrastructure Security Agency\\_ 677. Sense of Congress [Effective until November 15, 2028].docx to C:/Users/User/Box/UTD/PhD Research/RAG-app/Current Cybersecurity Law/Federal\\Federal Legislation\\Cybersecurity and Infrastructure Security Agency\\_ 677. Sense of Congress [Effective until November 15, 2028].docx\n",
      "Renamed: C:/Users/User/Box/UTD/PhD Research/RAG-app/Current Cybersecurity Law/Federal\\Federal Legislation\\Cybersecurity and Infrastructure Security Agency\\_ 677a. Definitions [Effective until November 15, 2028].docx to C:/Users/User/Box/UTD/PhD Research/RAG-app/Current Cybersecurity Law/Federal\\Federal Legislation\\Cybersecurity and Infrastructure Security Agency\\_ 677a. Definitions [Effective until November 15, 2028].docx\n",
      "Renamed: C:/Users/User/Box/UTD/PhD Research/RAG-app/Current Cybersecurity Law/Federal\\Federal Legislation\\Cybersecurity and Infrastructure Security Agency\\_ 677b. Declaration [Effective until November 15, 2028].docx to C:/Users/User/Box/UTD/PhD Research/RAG-app/Current Cybersecurity Law/Federal\\Federal Legislation\\Cybersecurity and Infrastructure Security Agency\\_ 677b. Declaration [Effective until November 15, 2028].docx\n",
      "Renamed: C:/Users/User/Box/UTD/PhD Research/RAG-app/Current Cybersecurity Law/Federal\\Federal Legislation\\Cybersecurity and Infrastructure Security Agency\\_ 677c. Cyber Response and Recovery Fund.docx to C:/Users/User/Box/UTD/PhD Research/RAG-app/Current Cybersecurity Law/Federal\\Federal Legislation\\Cybersecurity and Infrastructure Security Agency\\_ 677c. Cyber Response and Recovery Fund.docx\n",
      "Renamed: C:/Users/User/Box/UTD/PhD Research/RAG-app/Current Cybersecurity Law/Federal\\Federal Legislation\\Cybersecurity and Infrastructure Security Agency\\_ 677d. Notification and reporting.docx to C:/Users/User/Box/UTD/PhD Research/RAG-app/Current Cybersecurity Law/Federal\\Federal Legislation\\Cybersecurity and Infrastructure Security Agency\\_ 677d. Notification and reporting.docx\n",
      "Renamed: C:/Users/User/Box/UTD/PhD Research/RAG-app/Current Cybersecurity Law/Federal\\Federal Legislation\\Cybersecurity and Infrastructure Security Agency\\_ 677e. Rule of construction [Effective until November 15, 2028].docx to C:/Users/User/Box/UTD/PhD Research/RAG-app/Current Cybersecurity Law/Federal\\Federal Legislation\\Cybersecurity and Infrastructure Security Agency\\_ 677e. Rule of construction [Effective until November 15, 2028].docx\n",
      "Renamed: C:/Users/User/Box/UTD/PhD Research/RAG-app/Current Cybersecurity Law/Federal\\Federal Legislation\\Cybersecurity and Infrastructure Security Agency\\_ 677f. Authorization of appropriation.docx to C:/Users/User/Box/UTD/PhD Research/RAG-app/Current Cybersecurity Law/Federal\\Federal Legislation\\Cybersecurity and Infrastructure Security Agency\\_ 677f. Authorization of appropriation.docx\n",
      "Renamed: C:/Users/User/Box/UTD/PhD Research/RAG-app/Current Cybersecurity Law/Federal\\Federal Legislation\\Cybersecurity and Infrastructure Security Agency\\_ 677g. Sunset.docx to C:/Users/User/Box/UTD/PhD Research/RAG-app/Current Cybersecurity Law/Federal\\Federal Legislation\\Cybersecurity and Infrastructure Security Agency\\_ 677g. Sunset.docx\n",
      "Renamed: C:/Users/User/Box/UTD/PhD Research/RAG-app/Current Cybersecurity Law/Federal\\Federal Legislation\\Cybersecurity and Infrastructure Security Agency\\_ 681. Definitions.docx to C:/Users/User/Box/UTD/PhD Research/RAG-app/Current Cybersecurity Law/Federal\\Federal Legislation\\Cybersecurity and Infrastructure Security Agency\\_ 681. Definitions.docx\n",
      "Renamed: C:/Users/User/Box/UTD/PhD Research/RAG-app/Current Cybersecurity Law/Federal\\Federal Legislation\\Cybersecurity and Infrastructure Security Agency\\_ 681a. Cyber incident review.docx to C:/Users/User/Box/UTD/PhD Research/RAG-app/Current Cybersecurity Law/Federal\\Federal Legislation\\Cybersecurity and Infrastructure Security Agency\\_ 681a. Cyber incident review.docx\n",
      "Renamed: C:/Users/User/Box/UTD/PhD Research/RAG-app/Current Cybersecurity Law/Federal\\Federal Legislation\\Cybersecurity and Infrastructure Security Agency\\_ 681b. Required reporting of certain cyber incidents.docx to C:/Users/User/Box/UTD/PhD Research/RAG-app/Current Cybersecurity Law/Federal\\Federal Legislation\\Cybersecurity and Infrastructure Security Agency\\_ 681b. Required reporting of certain cyber incidents.docx\n",
      "Renamed: C:/Users/User/Box/UTD/PhD Research/RAG-app/Current Cybersecurity Law/Federal\\Federal Legislation\\Cybersecurity and Infrastructure Security Agency\\_ 681c. Voluntary reporting of other cyber incidents.docx to C:/Users/User/Box/UTD/PhD Research/RAG-app/Current Cybersecurity Law/Federal\\Federal Legislation\\Cybersecurity and Infrastructure Security Agency\\_ 681c. Voluntary reporting of other cyber incidents.docx\n",
      "Renamed: C:/Users/User/Box/UTD/PhD Research/RAG-app/Current Cybersecurity Law/Federal\\Federal Legislation\\Cybersecurity and Infrastructure Security Agency\\_ 681d. Noncompliance with required reporting.docx to C:/Users/User/Box/UTD/PhD Research/RAG-app/Current Cybersecurity Law/Federal\\Federal Legislation\\Cybersecurity and Infrastructure Security Agency\\_ 681d. Noncompliance with required reporting.docx\n",
      "Renamed: C:/Users/User/Box/UTD/PhD Research/RAG-app/Current Cybersecurity Law/Federal\\Federal Legislation\\Cybersecurity and Infrastructure Security Agency\\_ 681e. Information shared with or provided.docx to C:/Users/User/Box/UTD/PhD Research/RAG-app/Current Cybersecurity Law/Federal\\Federal Legislation\\Cybersecurity and Infrastructure Security Agency\\_ 681e. Information shared with or provided.docx\n",
      "Renamed: C:/Users/User/Box/UTD/PhD Research/RAG-app/Current Cybersecurity Law/Federal\\Federal Legislation\\Cybersecurity and Infrastructure Security Agency\\_ 681f. Cyber Incident Reporting Council.docx to C:/Users/User/Box/UTD/PhD Research/RAG-app/Current Cybersecurity Law/Federal\\Federal Legislation\\Cybersecurity and Infrastructure Security Agency\\_ 681f. Cyber Incident Reporting Council.docx\n",
      "Renamed: C:/Users/User/Box/UTD/PhD Research/RAG-app/Current Cybersecurity Law/Federal\\Federal Legislation\\Cybersecurity and Infrastructure Security Agency\\_ 681g. Federal sharing of incident reports.docx to C:/Users/User/Box/UTD/PhD Research/RAG-app/Current Cybersecurity Law/Federal\\Federal Legislation\\Cybersecurity and Infrastructure Security Agency\\_ 681g. Federal sharing of incident reports.docx\n",
      "Renamed: C:/Users/User/Box/UTD/PhD Research/RAG-app/Current Cybersecurity Law/Federal\\Federal Legislation\\Cybersecurity Information Sharing\\CYBERSECURITY INFORMATION SHARING.docx to C:/Users/User/Box/UTD/PhD Research/RAG-app/Current Cybersecurity Law/Federal\\Federal Legislation\\Cybersecurity Information Sharing\\CYBERSECURITY INFORMATION SHARING.docx\n",
      "Renamed: C:/Users/User/Box/UTD/PhD Research/RAG-app/Current Cybersecurity Law/Federal\\Federal Legislation\\Cybersecurity Information Sharing\\_ 1500. National Cyber Director.docx to C:/Users/User/Box/UTD/PhD Research/RAG-app/Current Cybersecurity Law/Federal\\Federal Legislation\\Cybersecurity Information Sharing\\_ 1500. National Cyber Director.docx\n",
      "Renamed: C:/Users/User/Box/UTD/PhD Research/RAG-app/Current Cybersecurity Law/Federal\\Federal Legislation\\Cybersecurity Information Sharing\\_ 1501. Definitions.docx to C:/Users/User/Box/UTD/PhD Research/RAG-app/Current Cybersecurity Law/Federal\\Federal Legislation\\Cybersecurity Information Sharing\\_ 1501. Definitions.docx\n",
      "Renamed: C:/Users/User/Box/UTD/PhD Research/RAG-app/Current Cybersecurity Law/Federal\\Federal Legislation\\Cybersecurity Information Sharing\\_ 1502. Sharing of information by the Federal government.docx to C:/Users/User/Box/UTD/PhD Research/RAG-app/Current Cybersecurity Law/Federal\\Federal Legislation\\Cybersecurity Information Sharing\\_ 1502. Sharing of information by the Federal government.docx\n",
      "Renamed: C:/Users/User/Box/UTD/PhD Research/RAG-app/Current Cybersecurity Law/Federal\\Federal Legislation\\Cybersecurity Information Sharing\\_ 1503. Authorizations for preventing,.docx to C:/Users/User/Box/UTD/PhD Research/RAG-app/Current Cybersecurity Law/Federal\\Federal Legislation\\Cybersecurity Information Sharing\\_ 1503. Authorizations for preventing,.docx\n",
      "Renamed: C:/Users/User/Box/UTD/PhD Research/RAG-app/Current Cybersecurity Law/Federal\\Federal Legislation\\Cybersecurity Information Sharing\\_ 1504. Sharing of cyber threat indicators and defensive.docx to C:/Users/User/Box/UTD/PhD Research/RAG-app/Current Cybersecurity Law/Federal\\Federal Legislation\\Cybersecurity Information Sharing\\_ 1504. Sharing of cyber threat indicators and defensive.docx\n",
      "Renamed: C:/Users/User/Box/UTD/PhD Research/RAG-app/Current Cybersecurity Law/Federal\\Federal Legislation\\Cybersecurity Information Sharing\\_ 1505. Protection from liability.docx to C:/Users/User/Box/UTD/PhD Research/RAG-app/Current Cybersecurity Law/Federal\\Federal Legislation\\Cybersecurity Information Sharing\\_ 1505. Protection from liability.docx\n",
      "Renamed: C:/Users/User/Box/UTD/PhD Research/RAG-app/Current Cybersecurity Law/Federal\\Federal Legislation\\Cybersecurity Information Sharing\\_ 1506. Oversight of government activities.docx to C:/Users/User/Box/UTD/PhD Research/RAG-app/Current Cybersecurity Law/Federal\\Federal Legislation\\Cybersecurity Information Sharing\\_ 1506. Oversight of government activities.docx\n",
      "Renamed: C:/Users/User/Box/UTD/PhD Research/RAG-app/Current Cybersecurity Law/Federal\\Federal Legislation\\Cybersecurity Information Sharing\\_ 1507. Construction and preemption.docx to C:/Users/User/Box/UTD/PhD Research/RAG-app/Current Cybersecurity Law/Federal\\Federal Legislation\\Cybersecurity Information Sharing\\_ 1507. Construction and preemption.docx\n",
      "Renamed: C:/Users/User/Box/UTD/PhD Research/RAG-app/Current Cybersecurity Law/Federal\\Federal Legislation\\Cybersecurity Information Sharing\\_ 1508. Report on cybersecurity threats.docx to C:/Users/User/Box/UTD/PhD Research/RAG-app/Current Cybersecurity Law/Federal\\Federal Legislation\\Cybersecurity Information Sharing\\_ 1508. Report on cybersecurity threats.docx\n",
      "Renamed: C:/Users/User/Box/UTD/PhD Research/RAG-app/Current Cybersecurity Law/Federal\\Federal Legislation\\Cybersecurity Information Sharing\\_ 1509. Exception to limitation on authority of Secretary of Defense.docx to C:/Users/User/Box/UTD/PhD Research/RAG-app/Current Cybersecurity Law/Federal\\Federal Legislation\\Cybersecurity Information Sharing\\_ 1509. Exception to limitation on authority of Secretary of Defense.docx\n",
      "Renamed: C:/Users/User/Box/UTD/PhD Research/RAG-app/Current Cybersecurity Law/Federal\\Federal Legislation\\Cybersecurity Information Sharing\\_ 1510. Effective period.docx to C:/Users/User/Box/UTD/PhD Research/RAG-app/Current Cybersecurity Law/Federal\\Federal Legislation\\Cybersecurity Information Sharing\\_ 1510. Effective period.docx\n",
      "Renamed: C:/Users/User/Box/UTD/PhD Research/RAG-app/Current Cybersecurity Law/Federal\\Federal Legislation\\Federal Coordination of Federal Information Policy - Information Security (FISMA)\\_ 3551. Purposes.docx to C:/Users/User/Box/UTD/PhD Research/RAG-app/Current Cybersecurity Law/Federal\\Federal Legislation\\Federal Coordination of Federal Information Policy - Information Security (FISMA)\\_ 3551. Purposes.docx\n",
      "Renamed: C:/Users/User/Box/UTD/PhD Research/RAG-app/Current Cybersecurity Law/Federal\\Federal Legislation\\Federal Coordination of Federal Information Policy - Information Security (FISMA)\\_ 3552. Definitions.docx to C:/Users/User/Box/UTD/PhD Research/RAG-app/Current Cybersecurity Law/Federal\\Federal Legislation\\Federal Coordination of Federal Information Policy - Information Security (FISMA)\\_ 3552. Definitions.docx\n",
      "Renamed: C:/Users/User/Box/UTD/PhD Research/RAG-app/Current Cybersecurity Law/Federal\\Federal Legislation\\Federal Coordination of Federal Information Policy - Information Security (FISMA)\\_ 3553. Authority and functions of the Director.docx to C:/Users/User/Box/UTD/PhD Research/RAG-app/Current Cybersecurity Law/Federal\\Federal Legislation\\Federal Coordination of Federal Information Policy - Information Security (FISMA)\\_ 3553. Authority and functions of the Director.docx\n",
      "Renamed: C:/Users/User/Box/UTD/PhD Research/RAG-app/Current Cybersecurity Law/Federal\\Federal Legislation\\Federal Coordination of Federal Information Policy - Information Security (FISMA)\\_ 3554. Federal agency.docx to C:/Users/User/Box/UTD/PhD Research/RAG-app/Current Cybersecurity Law/Federal\\Federal Legislation\\Federal Coordination of Federal Information Policy - Information Security (FISMA)\\_ 3554. Federal agency.docx\n",
      "Renamed: C:/Users/User/Box/UTD/PhD Research/RAG-app/Current Cybersecurity Law/Federal\\Federal Legislation\\Federal Coordination of Federal Information Policy - Information Security (FISMA)\\_ 3555.docx to C:/Users/User/Box/UTD/PhD Research/RAG-app/Current Cybersecurity Law/Federal\\Federal Legislation\\Federal Coordination of Federal Information Policy - Information Security (FISMA)\\_ 3555.docx\n",
      "Renamed: C:/Users/User/Box/UTD/PhD Research/RAG-app/Current Cybersecurity Law/Federal\\Federal Legislation\\Federal Coordination of Federal Information Policy - Information Security (FISMA)\\_ 3556.docx to C:/Users/User/Box/UTD/PhD Research/RAG-app/Current Cybersecurity Law/Federal\\Federal Legislation\\Federal Coordination of Federal Information Policy - Information Security (FISMA)\\_ 3556.docx\n",
      "Renamed: C:/Users/User/Box/UTD/PhD Research/RAG-app/Current Cybersecurity Law/Federal\\Federal Legislation\\Federal Coordination of Federal Information Policy - Information Security (FISMA)\\_ 3557. National security systems.docx to C:/Users/User/Box/UTD/PhD Research/RAG-app/Current Cybersecurity Law/Federal\\Federal Legislation\\Federal Coordination of Federal Information Policy - Information Security (FISMA)\\_ 3557. National security systems.docx\n",
      "Renamed: C:/Users/User/Box/UTD/PhD Research/RAG-app/Current Cybersecurity Law/Federal\\Federal Legislation\\Federal Coordination of Federal Information Policy - Information Security (FISMA)\\_ 3558. Effect on existing law.docx to C:/Users/User/Box/UTD/PhD Research/RAG-app/Current Cybersecurity Law/Federal\\Federal Legislation\\Federal Coordination of Federal Information Policy - Information Security (FISMA)\\_ 3558. Effect on existing law.docx\n",
      "Renamed: C:/Users/User/Box/UTD/PhD Research/RAG-app/Current Cybersecurity Law/Federal\\Federal Legislation\\Federal Coordination of Federal Information Policy - Information Security (FISMA)\\_ 3559.docx to C:/Users/User/Box/UTD/PhD Research/RAG-app/Current Cybersecurity Law/Federal\\Federal Legislation\\Federal Coordination of Federal Information Policy - Information Security (FISMA)\\_ 3559.docx\n",
      "Renamed: C:/Users/User/Box/UTD/PhD Research/RAG-app/Current Cybersecurity Law/Federal\\Federal Legislation\\Federal Cybersecurity Enhancement\\_ 1521. Definitions.docx to C:/Users/User/Box/UTD/PhD Research/RAG-app/Current Cybersecurity Law/Federal\\Federal Legislation\\Federal Cybersecurity Enhancement\\_ 1521. Definitions.docx\n",
      "Renamed: C:/Users/User/Box/UTD/PhD Research/RAG-app/Current Cybersecurity Law/Federal\\Federal Legislation\\Federal Cybersecurity Enhancement\\_ 1522. Advanced internal defenses.docx to C:/Users/User/Box/UTD/PhD Research/RAG-app/Current Cybersecurity Law/Federal\\Federal Legislation\\Federal Cybersecurity Enhancement\\_ 1522. Advanced internal defenses.docx\n",
      "Renamed: C:/Users/User/Box/UTD/PhD Research/RAG-app/Current Cybersecurity Law/Federal\\Federal Legislation\\Federal Cybersecurity Enhancement\\_ 1523. Federal cybersecurity requirements.docx to C:/Users/User/Box/UTD/PhD Research/RAG-app/Current Cybersecurity Law/Federal\\Federal Legislation\\Federal Cybersecurity Enhancement\\_ 1523. Federal cybersecurity requirements.docx\n",
      "Renamed: C:/Users/User/Box/UTD/PhD Research/RAG-app/Current Cybersecurity Law/Federal\\Federal Legislation\\Federal Cybersecurity Enhancement\\_ 1524. Assessment; reports.docx to C:/Users/User/Box/UTD/PhD Research/RAG-app/Current Cybersecurity Law/Federal\\Federal Legislation\\Federal Cybersecurity Enhancement\\_ 1524. Assessment; reports.docx\n",
      "Renamed: C:/Users/User/Box/UTD/PhD Research/RAG-app/Current Cybersecurity Law/Federal\\Federal Legislation\\Federal Cybersecurity Enhancement\\_ 1525. Termination.docx to C:/Users/User/Box/UTD/PhD Research/RAG-app/Current Cybersecurity Law/Federal\\Federal Legislation\\Federal Cybersecurity Enhancement\\_ 1525. Termination.docx\n",
      "Renamed: C:/Users/User/Box/UTD/PhD Research/RAG-app/Current Cybersecurity Law/Federal\\Federal Legislation\\Federal Cybersecurity Enhancement\\_ 1526.docx to C:/Users/User/Box/UTD/PhD Research/RAG-app/Current Cybersecurity Law/Federal\\Federal Legislation\\Federal Cybersecurity Enhancement\\_ 1526.docx\n",
      "Renamed: C:/Users/User/Box/UTD/PhD Research/RAG-app/Current Cybersecurity Law/Federal\\Federal Legislation\\Health Insurance Portability and Accountability Act of 1996 (HIPAA)\\HEALTH INSURANCE PORTABILITY.DOCX to C:/Users/User/Box/UTD/PhD Research/RAG-app/Current Cybersecurity Law/Federal\\Federal Legislation\\Health Insurance Portability and Accountability Act of 1996 (HIPAA)\\HEALTH INSURANCE PORTABILITY.docx\n",
      "Renamed: C:/Users/User/Box/UTD/PhD Research/RAG-app/Current Cybersecurity Law/Federal\\Federal Legislation\\Other Cyber Matters\\_ 1531. Apprehension and prosecution of international cyber criminals.docx to C:/Users/User/Box/UTD/PhD Research/RAG-app/Current Cybersecurity Law/Federal\\Federal Legislation\\Other Cyber Matters\\_ 1531. Apprehension and prosecution of international cyber criminals.docx\n",
      "Renamed: C:/Users/User/Box/UTD/PhD Research/RAG-app/Current Cybersecurity Law/Federal\\Federal Legislation\\Other Cyber Matters\\_ 1532. Enhancement of emergency services.docx to C:/Users/User/Box/UTD/PhD Research/RAG-app/Current Cybersecurity Law/Federal\\Federal Legislation\\Other Cyber Matters\\_ 1532. Enhancement of emergency services.docx\n",
      "Renamed: C:/Users/User/Box/UTD/PhD Research/RAG-app/Current Cybersecurity Law/Federal\\Federal Legislation\\Other Cyber Matters\\_ 1533. Improving cybersecurity in the health care industry.docx to C:/Users/User/Box/UTD/PhD Research/RAG-app/Current Cybersecurity Law/Federal\\Federal Legislation\\Other Cyber Matters\\_ 1533. Improving cybersecurity in the health care industry.docx\n",
      "Renamed: C:/Users/User/Box/UTD/PhD Research/RAG-app/Current Cybersecurity Law/Federal\\Federal Legislation\\Other Cyber Matters\\_ 1534. Cybercrime.docx to C:/Users/User/Box/UTD/PhD Research/RAG-app/Current Cybersecurity Law/Federal\\Federal Legislation\\Other Cyber Matters\\_ 1534. Cybercrime.docx\n",
      "Renamed: C:/Users/User/Box/UTD/PhD Research/RAG-app/Current Cybersecurity Law/Federal\\Federal Legislation\\Privacy Act of 1974\\5 USCS § 552a.DOCX to C:/Users/User/Box/UTD/PhD Research/RAG-app/Current Cybersecurity Law/Federal\\Federal Legislation\\Privacy Act of 1974\\5 USCS § 552a.docx\n"
     ]
    }
   ],
   "source": [
    "import os\n",
    "\n",
    "def rename_docx_files(root_dir):\n",
    "    for subdir, dirs, files in os.walk(root_dir):\n",
    "        for file in files:\n",
    "            if file.upper().endswith(\".DOCX\"):  # Check for .DOCX regardless of case\n",
    "                old_path = os.path.join(subdir, file)\n",
    "                new_path = os.path.join(subdir, file[:-4] + \"docx\")  # Convert extension to lowercase\n",
    "                os.rename(old_path, new_path)\n",
    "                print(f\"Renamed: {old_path} to {new_path}\")\n",
    "\n",
    "# Change the directory path accordingly\n",
    "rename_docx_files(root_directory)\n"
   ]
  },
  {
   "cell_type": "code",
   "execution_count": 5,
   "metadata": {},
   "outputs": [
    {
     "data": {
      "application/vnd.jupyter.widget-view+json": {
       "model_id": "423641ba1061440692bf6f778963f79f",
       "version_major": 2,
       "version_minor": 0
      },
      "text/plain": [
       "  0%|          | 0/1 [00:00<?, ?it/s]"
      ]
     },
     "metadata": {},
     "output_type": "display_data"
    },
    {
     "name": "stdout",
     "output_type": "stream",
     "text": [
      "Converted: C:/Users/User/Box/UTD/PhD Research/RAG-app/Current Cybersecurity Law/Federal\\Federal Legislation\\Cybersecurity and Infrastructure Security Agency\\_ 650. Definitions.docx to C:/Users/User/Box/UTD/PhD Research/RAG-app/Current Cybersecurity Law/Federal\\Federal Legislation\\Cybersecurity and Infrastructure Security Agency\\_ 650. Definitions.pdf\n"
     ]
    },
    {
     "data": {
      "application/vnd.jupyter.widget-view+json": {
       "model_id": "19f5d4f695b04eceb7ac6c32cfb37a9c",
       "version_major": 2,
       "version_minor": 0
      },
      "text/plain": [
       "  0%|          | 0/1 [00:00<?, ?it/s]"
      ]
     },
     "metadata": {},
     "output_type": "display_data"
    },
    {
     "name": "stdout",
     "output_type": "stream",
     "text": [
      "Converted: C:/Users/User/Box/UTD/PhD Research/RAG-app/Current Cybersecurity Law/Federal\\Federal Legislation\\Cybersecurity and Infrastructure Security Agency\\_ 651. Definition.docx to C:/Users/User/Box/UTD/PhD Research/RAG-app/Current Cybersecurity Law/Federal\\Federal Legislation\\Cybersecurity and Infrastructure Security Agency\\_ 651. Definition.pdf\n"
     ]
    },
    {
     "data": {
      "application/vnd.jupyter.widget-view+json": {
       "model_id": "af128e73999c4242a0f986895cc2f2cc",
       "version_major": 2,
       "version_minor": 0
      },
      "text/plain": [
       "  0%|          | 0/1 [00:00<?, ?it/s]"
      ]
     },
     "metadata": {},
     "output_type": "display_data"
    },
    {
     "name": "stdout",
     "output_type": "stream",
     "text": [
      "Converted: C:/Users/User/Box/UTD/PhD Research/RAG-app/Current Cybersecurity Law/Federal\\Federal Legislation\\Cybersecurity and Infrastructure Security Agency\\_ 652. Cybersecurity an.docx to C:/Users/User/Box/UTD/PhD Research/RAG-app/Current Cybersecurity Law/Federal\\Federal Legislation\\Cybersecurity and Infrastructure Security Agency\\_ 652. Cybersecurity an.pdf\n"
     ]
    },
    {
     "data": {
      "application/vnd.jupyter.widget-view+json": {
       "model_id": "3d4edf62c3734363b7e698bd05dee048",
       "version_major": 2,
       "version_minor": 0
      },
      "text/plain": [
       "  0%|          | 0/1 [00:00<?, ?it/s]"
      ]
     },
     "metadata": {},
     "output_type": "display_data"
    },
    {
     "name": "stdout",
     "output_type": "stream",
     "text": [
      "Converted: C:/Users/User/Box/UTD/PhD Research/RAG-app/Current Cybersecurity Law/Federal\\Federal Legislation\\Cybersecurity and Infrastructure Security Agency\\_ 652. Cybersecurity and Infrastructure Security Agency.docx to C:/Users/User/Box/UTD/PhD Research/RAG-app/Current Cybersecurity Law/Federal\\Federal Legislation\\Cybersecurity and Infrastructure Security Agency\\_ 652. Cybersecurity and Infrastructure Security Agency.pdf\n"
     ]
    },
    {
     "data": {
      "application/vnd.jupyter.widget-view+json": {
       "model_id": "fcfb255c712f49d9bd281621beac8965",
       "version_major": 2,
       "version_minor": 0
      },
      "text/plain": [
       "  0%|          | 0/1 [00:00<?, ?it/s]"
      ]
     },
     "metadata": {},
     "output_type": "display_data"
    },
    {
     "name": "stdout",
     "output_type": "stream",
     "text": [
      "Converted: C:/Users/User/Box/UTD/PhD Research/RAG-app/Current Cybersecurity Law/Federal\\Federal Legislation\\Cybersecurity and Infrastructure Security Agency\\_ 652. Cybersecurity and Infrastructure.docx to C:/Users/User/Box/UTD/PhD Research/RAG-app/Current Cybersecurity Law/Federal\\Federal Legislation\\Cybersecurity and Infrastructure Security Agency\\_ 652. Cybersecurity and Infrastructure.pdf\n"
     ]
    },
    {
     "data": {
      "application/vnd.jupyter.widget-view+json": {
       "model_id": "97f9961ca9634e9fbcec57479f5105dc",
       "version_major": 2,
       "version_minor": 0
      },
      "text/plain": [
       "  0%|          | 0/1 [00:00<?, ?it/s]"
      ]
     },
     "metadata": {},
     "output_type": "display_data"
    },
    {
     "name": "stdout",
     "output_type": "stream",
     "text": [
      "Converted: C:/Users/User/Box/UTD/PhD Research/RAG-app/Current Cybersecurity Law/Federal\\Federal Legislation\\Cybersecurity and Infrastructure Security Agency\\_ 652a. Sector risk management agencies.docx to C:/Users/User/Box/UTD/PhD Research/RAG-app/Current Cybersecurity Law/Federal\\Federal Legislation\\Cybersecurity and Infrastructure Security Agency\\_ 652a. Sector risk management agencies.pdf\n"
     ]
    },
    {
     "data": {
      "application/vnd.jupyter.widget-view+json": {
       "model_id": "584ccec6735141bbbca302886b62e807",
       "version_major": 2,
       "version_minor": 0
      },
      "text/plain": [
       "  0%|          | 0/1 [00:00<?, ?it/s]"
      ]
     },
     "metadata": {},
     "output_type": "display_data"
    },
    {
     "name": "stdout",
     "output_type": "stream",
     "text": [
      "Converted: C:/Users/User/Box/UTD/PhD Research/RAG-app/Current Cybersecurity Law/Federal\\Federal Legislation\\Cybersecurity and Infrastructure Security Agency\\_ 653. Cybersecurity division.docx to C:/Users/User/Box/UTD/PhD Research/RAG-app/Current Cybersecurity Law/Federal\\Federal Legislation\\Cybersecurity and Infrastructure Security Agency\\_ 653. Cybersecurity division.pdf\n"
     ]
    },
    {
     "data": {
      "application/vnd.jupyter.widget-view+json": {
       "model_id": "52755c616a6a49a58af5c362bf02dd0b",
       "version_major": 2,
       "version_minor": 0
      },
      "text/plain": [
       "  0%|          | 0/1 [00:00<?, ?it/s]"
      ]
     },
     "metadata": {},
     "output_type": "display_data"
    },
    {
     "name": "stdout",
     "output_type": "stream",
     "text": [
      "Converted: C:/Users/User/Box/UTD/PhD Research/RAG-app/Current Cybersecurity Law/Federal\\Federal Legislation\\Cybersecurity and Infrastructure Security Agency\\_ 654. Infrastructure security division.docx to C:/Users/User/Box/UTD/PhD Research/RAG-app/Current Cybersecurity Law/Federal\\Federal Legislation\\Cybersecurity and Infrastructure Security Agency\\_ 654. Infrastructure security division.pdf\n"
     ]
    },
    {
     "data": {
      "application/vnd.jupyter.widget-view+json": {
       "model_id": "e35321f1d421447b9e2cb5d315784c70",
       "version_major": 2,
       "version_minor": 0
      },
      "text/plain": [
       "  0%|          | 0/1 [00:00<?, ?it/s]"
      ]
     },
     "metadata": {},
     "output_type": "display_data"
    },
    {
     "name": "stdout",
     "output_type": "stream",
     "text": [
      "Converted: C:/Users/User/Box/UTD/PhD Research/RAG-app/Current Cybersecurity Law/Federal\\Federal Legislation\\Cybersecurity and Infrastructure Security Agency\\_ 655. Enhancement of Federal and non-Federal cybersecurity.docx to C:/Users/User/Box/UTD/PhD Research/RAG-app/Current Cybersecurity Law/Federal\\Federal Legislation\\Cybersecurity and Infrastructure Security Agency\\_ 655. Enhancement of Federal and non-Federal cybersecurity.pdf\n"
     ]
    },
    {
     "data": {
      "application/vnd.jupyter.widget-view+json": {
       "model_id": "92d9cd9b7f0541bba310b62a1fe5e8ca",
       "version_major": 2,
       "version_minor": 0
      },
      "text/plain": [
       "  0%|          | 0/1 [00:00<?, ?it/s]"
      ]
     },
     "metadata": {},
     "output_type": "display_data"
    },
    {
     "name": "stdout",
     "output_type": "stream",
     "text": [
      "Converted: C:/Users/User/Box/UTD/PhD Research/RAG-app/Current Cybersecurity Law/Federal\\Federal Legislation\\Cybersecurity and Infrastructure Security Agency\\_ 656. NET Guard.docx to C:/Users/User/Box/UTD/PhD Research/RAG-app/Current Cybersecurity Law/Federal\\Federal Legislation\\Cybersecurity and Infrastructure Security Agency\\_ 656. NET Guard.pdf\n"
     ]
    },
    {
     "data": {
      "application/vnd.jupyter.widget-view+json": {
       "model_id": "25c90b2f85264eafa0d7a5c199dd575f",
       "version_major": 2,
       "version_minor": 0
      },
      "text/plain": [
       "  0%|          | 0/1 [00:00<?, ?it/s]"
      ]
     },
     "metadata": {},
     "output_type": "display_data"
    },
    {
     "name": "stdout",
     "output_type": "stream",
     "text": [
      "Converted: C:/Users/User/Box/UTD/PhD Research/RAG-app/Current Cybersecurity Law/Federal\\Federal Legislation\\Cybersecurity and Infrastructure Security Agency\\_ 657. Cyber Security Enhancement Act of 2002.docx to C:/Users/User/Box/UTD/PhD Research/RAG-app/Current Cybersecurity Law/Federal\\Federal Legislation\\Cybersecurity and Infrastructure Security Agency\\_ 657. Cyber Security Enhancement Act of 2002.pdf\n"
     ]
    },
    {
     "data": {
      "application/vnd.jupyter.widget-view+json": {
       "model_id": "feb90bc8f98b4861a7f9b6ef42594e54",
       "version_major": 2,
       "version_minor": 0
      },
      "text/plain": [
       "  0%|          | 0/1 [00:00<?, ?it/s]"
      ]
     },
     "metadata": {},
     "output_type": "display_data"
    },
    {
     "name": "stdout",
     "output_type": "stream",
     "text": [
      "Converted: C:/Users/User/Box/UTD/PhD Research/RAG-app/Current Cybersecurity Law/Federal\\Federal Legislation\\Cybersecurity and Infrastructure Security Agency\\_ 658. Cybersecurity recruitment and retention.docx to C:/Users/User/Box/UTD/PhD Research/RAG-app/Current Cybersecurity Law/Federal\\Federal Legislation\\Cybersecurity and Infrastructure Security Agency\\_ 658. Cybersecurity recruitment and retention.pdf\n"
     ]
    },
    {
     "data": {
      "application/vnd.jupyter.widget-view+json": {
       "model_id": "d1aab0f9b46a4019b0df92a026f89025",
       "version_major": 2,
       "version_minor": 0
      },
      "text/plain": [
       "  0%|          | 0/1 [00:00<?, ?it/s]"
      ]
     },
     "metadata": {},
     "output_type": "display_data"
    },
    {
     "name": "stdout",
     "output_type": "stream",
     "text": [
      "Converted: C:/Users/User/Box/UTD/PhD Research/RAG-app/Current Cybersecurity Law/Federal\\Federal Legislation\\Cybersecurity and Infrastructure Security Agency\\_ 659. National cybersecurity and communications.docx to C:/Users/User/Box/UTD/PhD Research/RAG-app/Current Cybersecurity Law/Federal\\Federal Legislation\\Cybersecurity and Infrastructure Security Agency\\_ 659. National cybersecurity and communications.pdf\n"
     ]
    },
    {
     "data": {
      "application/vnd.jupyter.widget-view+json": {
       "model_id": "afe7758735764abc8a80b0899af50498",
       "version_major": 2,
       "version_minor": 0
      },
      "text/plain": [
       "  0%|          | 0/1 [00:00<?, ?it/s]"
      ]
     },
     "metadata": {},
     "output_type": "display_data"
    },
    {
     "name": "stdout",
     "output_type": "stream",
     "text": [
      "Converted: C:/Users/User/Box/UTD/PhD Research/RAG-app/Current Cybersecurity Law/Federal\\Federal Legislation\\Cybersecurity and Infrastructure Security Agency\\_ 660. Cybersecurity plans.docx to C:/Users/User/Box/UTD/PhD Research/RAG-app/Current Cybersecurity Law/Federal\\Federal Legislation\\Cybersecurity and Infrastructure Security Agency\\_ 660. Cybersecurity plans.pdf\n"
     ]
    },
    {
     "data": {
      "application/vnd.jupyter.widget-view+json": {
       "model_id": "bb6cb7b8442a46819c507fcec1930db2",
       "version_major": 2,
       "version_minor": 0
      },
      "text/plain": [
       "  0%|          | 0/1 [00:00<?, ?it/s]"
      ]
     },
     "metadata": {},
     "output_type": "display_data"
    },
    {
     "name": "stdout",
     "output_type": "stream",
     "text": [
      "Converted: C:/Users/User/Box/UTD/PhD Research/RAG-app/Current Cybersecurity Law/Federal\\Federal Legislation\\Cybersecurity and Infrastructure Security Agency\\_ 661. Cybersecurity strategy.docx to C:/Users/User/Box/UTD/PhD Research/RAG-app/Current Cybersecurity Law/Federal\\Federal Legislation\\Cybersecurity and Infrastructure Security Agency\\_ 661. Cybersecurity strategy.pdf\n"
     ]
    },
    {
     "data": {
      "application/vnd.jupyter.widget-view+json": {
       "model_id": "db16129ee46e4992a581fa98714a9f71",
       "version_major": 2,
       "version_minor": 0
      },
      "text/plain": [
       "  0%|          | 0/1 [00:00<?, ?it/s]"
      ]
     },
     "metadata": {},
     "output_type": "display_data"
    },
    {
     "name": "stdout",
     "output_type": "stream",
     "text": [
      "Converted: C:/Users/User/Box/UTD/PhD Research/RAG-app/Current Cybersecurity Law/Federal\\Federal Legislation\\Cybersecurity and Infrastructure Security Agency\\_ 662. Clearances.docx to C:/Users/User/Box/UTD/PhD Research/RAG-app/Current Cybersecurity Law/Federal\\Federal Legislation\\Cybersecurity and Infrastructure Security Agency\\_ 662. Clearances.pdf\n"
     ]
    },
    {
     "data": {
      "application/vnd.jupyter.widget-view+json": {
       "model_id": "c1b56294c0844b968dc0de2a7beebe77",
       "version_major": 2,
       "version_minor": 0
      },
      "text/plain": [
       "  0%|          | 0/1 [00:00<?, ?it/s]"
      ]
     },
     "metadata": {},
     "output_type": "display_data"
    },
    {
     "name": "stdout",
     "output_type": "stream",
     "text": [
      "Converted: C:/Users/User/Box/UTD/PhD Research/RAG-app/Current Cybersecurity Law/Federal\\Federal Legislation\\Cybersecurity and Infrastructure Security Agency\\_ 663. Federal intrusion detection and prevention system.docx to C:/Users/User/Box/UTD/PhD Research/RAG-app/Current Cybersecurity Law/Federal\\Federal Legislation\\Cybersecurity and Infrastructure Security Agency\\_ 663. Federal intrusion detection and prevention system.pdf\n"
     ]
    },
    {
     "data": {
      "application/vnd.jupyter.widget-view+json": {
       "model_id": "a4f996f6d9d643f48f3f5a5df24ca2ce",
       "version_major": 2,
       "version_minor": 0
      },
      "text/plain": [
       "  0%|          | 0/1 [00:00<?, ?it/s]"
      ]
     },
     "metadata": {},
     "output_type": "display_data"
    },
    {
     "name": "stdout",
     "output_type": "stream",
     "text": [
      "Converted: C:/Users/User/Box/UTD/PhD Research/RAG-app/Current Cybersecurity Law/Federal\\Federal Legislation\\Cybersecurity and Infrastructure Security Agency\\_ 664. National asset database.docx to C:/Users/User/Box/UTD/PhD Research/RAG-app/Current Cybersecurity Law/Federal\\Federal Legislation\\Cybersecurity and Infrastructure Security Agency\\_ 664. National asset database.pdf\n"
     ]
    },
    {
     "data": {
      "application/vnd.jupyter.widget-view+json": {
       "model_id": "6cc888217c9d48a0ac70c3b1af4dca2b",
       "version_major": 2,
       "version_minor": 0
      },
      "text/plain": [
       "  0%|          | 0/1 [00:00<?, ?it/s]"
      ]
     },
     "metadata": {},
     "output_type": "display_data"
    },
    {
     "name": "stdout",
     "output_type": "stream",
     "text": [
      "Converted: C:/Users/User/Box/UTD/PhD Research/RAG-app/Current Cybersecurity Law/Federal\\Federal Legislation\\Cybersecurity and Infrastructure Security Agency\\_ 665. Duties and authorities relating to .gov internet domain.docx to C:/Users/User/Box/UTD/PhD Research/RAG-app/Current Cybersecurity Law/Federal\\Federal Legislation\\Cybersecurity and Infrastructure Security Agency\\_ 665. Duties and authorities relating to .gov internet domain.pdf\n"
     ]
    },
    {
     "data": {
      "application/vnd.jupyter.widget-view+json": {
       "model_id": "0b302a2ceb7249bd9a94d319b9ff2d08",
       "version_major": 2,
       "version_minor": 0
      },
      "text/plain": [
       "  0%|          | 0/1 [00:00<?, ?it/s]"
      ]
     },
     "metadata": {},
     "output_type": "display_data"
    },
    {
     "name": "stdout",
     "output_type": "stream",
     "text": [
      "Converted: C:/Users/User/Box/UTD/PhD Research/RAG-app/Current Cybersecurity Law/Federal\\Federal Legislation\\Cybersecurity and Infrastructure Security Agency\\_ 665a. Intelligence and cybersecurity.docx to C:/Users/User/Box/UTD/PhD Research/RAG-app/Current Cybersecurity Law/Federal\\Federal Legislation\\Cybersecurity and Infrastructure Security Agency\\_ 665a. Intelligence and cybersecurity.pdf\n"
     ]
    },
    {
     "data": {
      "application/vnd.jupyter.widget-view+json": {
       "model_id": "4bef54456ebd41aca483bee83a27a1b0",
       "version_major": 2,
       "version_minor": 0
      },
      "text/plain": [
       "  0%|          | 0/1 [00:00<?, ?it/s]"
      ]
     },
     "metadata": {},
     "output_type": "display_data"
    },
    {
     "name": "stdout",
     "output_type": "stream",
     "text": [
      "Converted: C:/Users/User/Box/UTD/PhD Research/RAG-app/Current Cybersecurity Law/Federal\\Federal Legislation\\Cybersecurity and Infrastructure Security Agency\\_ 665b. Joint cyber planning office.docx to C:/Users/User/Box/UTD/PhD Research/RAG-app/Current Cybersecurity Law/Federal\\Federal Legislation\\Cybersecurity and Infrastructure Security Agency\\_ 665b. Joint cyber planning office.pdf\n"
     ]
    },
    {
     "data": {
      "application/vnd.jupyter.widget-view+json": {
       "model_id": "ed686b2896c24a5d9aef826f23d9977d",
       "version_major": 2,
       "version_minor": 0
      },
      "text/plain": [
       "  0%|          | 0/1 [00:00<?, ?it/s]"
      ]
     },
     "metadata": {},
     "output_type": "display_data"
    },
    {
     "name": "stdout",
     "output_type": "stream",
     "text": [
      "Converted: C:/Users/User/Box/UTD/PhD Research/RAG-app/Current Cybersecurity Law/Federal\\Federal Legislation\\Cybersecurity and Infrastructure Security Agency\\_ 665c. Cybersecurity State Coordinator.docx to C:/Users/User/Box/UTD/PhD Research/RAG-app/Current Cybersecurity Law/Federal\\Federal Legislation\\Cybersecurity and Infrastructure Security Agency\\_ 665c. Cybersecurity State Coordinator.pdf\n"
     ]
    },
    {
     "data": {
      "application/vnd.jupyter.widget-view+json": {
       "model_id": "99447233c8a7414ca68c2bfdba4ce540",
       "version_major": 2,
       "version_minor": 0
      },
      "text/plain": [
       "  0%|          | 0/1 [00:00<?, ?it/s]"
      ]
     },
     "metadata": {},
     "output_type": "display_data"
    },
    {
     "name": "stdout",
     "output_type": "stream",
     "text": [
      "Converted: C:/Users/User/Box/UTD/PhD Research/RAG-app/Current Cybersecurity Law/Federal\\Federal Legislation\\Cybersecurity and Infrastructure Security Agency\\_ 665d. Sector Risk Management Agencies.docx to C:/Users/User/Box/UTD/PhD Research/RAG-app/Current Cybersecurity Law/Federal\\Federal Legislation\\Cybersecurity and Infrastructure Security Agency\\_ 665d. Sector Risk Management Agencies.pdf\n"
     ]
    },
    {
     "data": {
      "application/vnd.jupyter.widget-view+json": {
       "model_id": "477b00c2715344fd80eccf07da00b93c",
       "version_major": 2,
       "version_minor": 0
      },
      "text/plain": [
       "  0%|          | 0/1 [00:00<?, ?it/s]"
      ]
     },
     "metadata": {},
     "output_type": "display_data"
    },
    {
     "name": "stdout",
     "output_type": "stream",
     "text": [
      "Converted: C:/Users/User/Box/UTD/PhD Research/RAG-app/Current Cybersecurity Law/Federal\\Federal Legislation\\Cybersecurity and Infrastructure Security Agency\\_ 665e. Cybersecurity Advisory Committee.docx to C:/Users/User/Box/UTD/PhD Research/RAG-app/Current Cybersecurity Law/Federal\\Federal Legislation\\Cybersecurity and Infrastructure Security Agency\\_ 665e. Cybersecurity Advisory Committee.pdf\n"
     ]
    },
    {
     "data": {
      "application/vnd.jupyter.widget-view+json": {
       "model_id": "a828bbc7e3144dc78704a32e6b292974",
       "version_major": 2,
       "version_minor": 0
      },
      "text/plain": [
       "  0%|          | 0/1 [00:00<?, ?it/s]"
      ]
     },
     "metadata": {},
     "output_type": "display_data"
    },
    {
     "name": "stdout",
     "output_type": "stream",
     "text": [
      "Converted: C:/Users/User/Box/UTD/PhD Research/RAG-app/Current Cybersecurity Law/Federal\\Federal Legislation\\Cybersecurity and Infrastructure Security Agency\\_ 665f. Cybersecurity education and training programs.docx to C:/Users/User/Box/UTD/PhD Research/RAG-app/Current Cybersecurity Law/Federal\\Federal Legislation\\Cybersecurity and Infrastructure Security Agency\\_ 665f. Cybersecurity education and training programs.pdf\n"
     ]
    },
    {
     "data": {
      "application/vnd.jupyter.widget-view+json": {
       "model_id": "bd33ace83a9c42bbbf82895ed1511042",
       "version_major": 2,
       "version_minor": 0
      },
      "text/plain": [
       "  0%|          | 0/1 [00:00<?, ?it/s]"
      ]
     },
     "metadata": {},
     "output_type": "display_data"
    },
    {
     "name": "stdout",
     "output_type": "stream",
     "text": [
      "Converted: C:/Users/User/Box/UTD/PhD Research/RAG-app/Current Cybersecurity Law/Federal\\Federal Legislation\\Cybersecurity and Infrastructure Security Agency\\_ 665g. State and Local Cybersecurity Grant Program.docx to C:/Users/User/Box/UTD/PhD Research/RAG-app/Current Cybersecurity Law/Federal\\Federal Legislation\\Cybersecurity and Infrastructure Security Agency\\_ 665g. State and Local Cybersecurity Grant Program.pdf\n"
     ]
    },
    {
     "data": {
      "application/vnd.jupyter.widget-view+json": {
       "model_id": "4cb648fadf034463a155789109974e01",
       "version_major": 2,
       "version_minor": 0
      },
      "text/plain": [
       "  0%|          | 0/1 [00:00<?, ?it/s]"
      ]
     },
     "metadata": {},
     "output_type": "display_data"
    },
    {
     "name": "stdout",
     "output_type": "stream",
     "text": [
      "Converted: C:/Users/User/Box/UTD/PhD Research/RAG-app/Current Cybersecurity Law/Federal\\Federal Legislation\\Cybersecurity and Infrastructure Security Agency\\_ 665h. National Cyber Exercise Program.docx to C:/Users/User/Box/UTD/PhD Research/RAG-app/Current Cybersecurity Law/Federal\\Federal Legislation\\Cybersecurity and Infrastructure Security Agency\\_ 665h. National Cyber Exercise Program.pdf\n"
     ]
    },
    {
     "data": {
      "application/vnd.jupyter.widget-view+json": {
       "model_id": "c9492a5367e04552a83accde77da8ba7",
       "version_major": 2,
       "version_minor": 0
      },
      "text/plain": [
       "  0%|          | 0/1 [00:00<?, ?it/s]"
      ]
     },
     "metadata": {},
     "output_type": "display_data"
    },
    {
     "name": "stdout",
     "output_type": "stream",
     "text": [
      "Converted: C:/Users/User/Box/UTD/PhD Research/RAG-app/Current Cybersecurity Law/Federal\\Federal Legislation\\Cybersecurity and Infrastructure Security Agency\\_ 665i. CyberSentry program.docx to C:/Users/User/Box/UTD/PhD Research/RAG-app/Current Cybersecurity Law/Federal\\Federal Legislation\\Cybersecurity and Infrastructure Security Agency\\_ 665i. CyberSentry program.pdf\n"
     ]
    },
    {
     "data": {
      "application/vnd.jupyter.widget-view+json": {
       "model_id": "9370ed4e50304cbda56c427cb3749f37",
       "version_major": 2,
       "version_minor": 0
      },
      "text/plain": [
       "  0%|          | 0/1 [00:00<?, ?it/s]"
      ]
     },
     "metadata": {},
     "output_type": "display_data"
    },
    {
     "name": "stdout",
     "output_type": "stream",
     "text": [
      "Converted: C:/Users/User/Box/UTD/PhD Research/RAG-app/Current Cybersecurity Law/Federal\\Federal Legislation\\Cybersecurity and Infrastructure Security Agency\\_ 665j. Ransomware threat mitigation activities.docx to C:/Users/User/Box/UTD/PhD Research/RAG-app/Current Cybersecurity Law/Federal\\Federal Legislation\\Cybersecurity and Infrastructure Security Agency\\_ 665j. Ransomware threat mitigation activities.pdf\n"
     ]
    },
    {
     "data": {
      "application/vnd.jupyter.widget-view+json": {
       "model_id": "6136d46978e44990a1706f9001b214d1",
       "version_major": 2,
       "version_minor": 0
      },
      "text/plain": [
       "  0%|          | 0/1 [00:00<?, ?it/s]"
      ]
     },
     "metadata": {},
     "output_type": "display_data"
    },
    {
     "name": "stdout",
     "output_type": "stream",
     "text": [
      "Converted: C:/Users/User/Box/UTD/PhD Research/RAG-app/Current Cybersecurity Law/Federal\\Federal Legislation\\Cybersecurity and Infrastructure Security Agency\\_ 665l. School and daycare protection.docx to C:/Users/User/Box/UTD/PhD Research/RAG-app/Current Cybersecurity Law/Federal\\Federal Legislation\\Cybersecurity and Infrastructure Security Agency\\_ 665l. School and daycare protection.pdf\n"
     ]
    },
    {
     "data": {
      "application/vnd.jupyter.widget-view+json": {
       "model_id": "8042e410d71c4a80b543398f1b72045a",
       "version_major": 2,
       "version_minor": 0
      },
      "text/plain": [
       "  0%|          | 0/1 [00:00<?, ?it/s]"
      ]
     },
     "metadata": {},
     "output_type": "display_data"
    },
    {
     "name": "stdout",
     "output_type": "stream",
     "text": [
      "Converted: C:/Users/User/Box/UTD/PhD Research/RAG-app/Current Cybersecurity Law/Federal\\Federal Legislation\\Cybersecurity and Infrastructure Security Agency\\_ 665m. President_s Cup Cybersecurity Competition.docx to C:/Users/User/Box/UTD/PhD Research/RAG-app/Current Cybersecurity Law/Federal\\Federal Legislation\\Cybersecurity and Infrastructure Security Agency\\_ 665m. President_s Cup Cybersecurity Competition.pdf\n"
     ]
    },
    {
     "data": {
      "application/vnd.jupyter.widget-view+json": {
       "model_id": "0380649df08a42f7a7a8a993989d2d8c",
       "version_major": 2,
       "version_minor": 0
      },
      "text/plain": [
       "  0%|          | 0/1 [00:00<?, ?it/s]"
      ]
     },
     "metadata": {},
     "output_type": "display_data"
    },
    {
     "name": "stdout",
     "output_type": "stream",
     "text": [
      "Converted: C:/Users/User/Box/UTD/PhD Research/RAG-app/Current Cybersecurity Law/Federal\\Federal Legislation\\Cybersecurity and Infrastructure Security Agency\\_ 671. Definitions.docx to C:/Users/User/Box/UTD/PhD Research/RAG-app/Current Cybersecurity Law/Federal\\Federal Legislation\\Cybersecurity and Infrastructure Security Agency\\_ 671. Definitions.pdf\n"
     ]
    },
    {
     "data": {
      "application/vnd.jupyter.widget-view+json": {
       "model_id": "fcbbb633582c468195b1edf0cf52a87b",
       "version_major": 2,
       "version_minor": 0
      },
      "text/plain": [
       "  0%|          | 0/1 [00:00<?, ?it/s]"
      ]
     },
     "metadata": {},
     "output_type": "display_data"
    },
    {
     "name": "stdout",
     "output_type": "stream",
     "text": [
      "Converted: C:/Users/User/Box/UTD/PhD Research/RAG-app/Current Cybersecurity Law/Federal\\Federal Legislation\\Cybersecurity and Infrastructure Security Agency\\_ 672. Designation of critical infrastructure protection program.docx to C:/Users/User/Box/UTD/PhD Research/RAG-app/Current Cybersecurity Law/Federal\\Federal Legislation\\Cybersecurity and Infrastructure Security Agency\\_ 672. Designation of critical infrastructure protection program.pdf\n"
     ]
    },
    {
     "data": {
      "application/vnd.jupyter.widget-view+json": {
       "model_id": "9abbb261eb804e3fbdd90b4fe1f2fe8b",
       "version_major": 2,
       "version_minor": 0
      },
      "text/plain": [
       "  0%|          | 0/1 [00:00<?, ?it/s]"
      ]
     },
     "metadata": {},
     "output_type": "display_data"
    },
    {
     "name": "stdout",
     "output_type": "stream",
     "text": [
      "Converted: C:/Users/User/Box/UTD/PhD Research/RAG-app/Current Cybersecurity Law/Federal\\Federal Legislation\\Cybersecurity and Infrastructure Security Agency\\_ 673. Protection of voluntarily.docx to C:/Users/User/Box/UTD/PhD Research/RAG-app/Current Cybersecurity Law/Federal\\Federal Legislation\\Cybersecurity and Infrastructure Security Agency\\_ 673. Protection of voluntarily.pdf\n"
     ]
    },
    {
     "data": {
      "application/vnd.jupyter.widget-view+json": {
       "model_id": "641e2a38efe34af9a48f408024ca1250",
       "version_major": 2,
       "version_minor": 0
      },
      "text/plain": [
       "  0%|          | 0/1 [00:00<?, ?it/s]"
      ]
     },
     "metadata": {},
     "output_type": "display_data"
    },
    {
     "name": "stdout",
     "output_type": "stream",
     "text": [
      "Converted: C:/Users/User/Box/UTD/PhD Research/RAG-app/Current Cybersecurity Law/Federal\\Federal Legislation\\Cybersecurity and Infrastructure Security Agency\\_ 674. No private right of action.docx to C:/Users/User/Box/UTD/PhD Research/RAG-app/Current Cybersecurity Law/Federal\\Federal Legislation\\Cybersecurity and Infrastructure Security Agency\\_ 674. No private right of action.pdf\n"
     ]
    },
    {
     "data": {
      "application/vnd.jupyter.widget-view+json": {
       "model_id": "8af36d6a2d534174b0e88593ab3e6629",
       "version_major": 2,
       "version_minor": 0
      },
      "text/plain": [
       "  0%|          | 0/1 [00:00<?, ?it/s]"
      ]
     },
     "metadata": {},
     "output_type": "display_data"
    },
    {
     "name": "stdout",
     "output_type": "stream",
     "text": [
      "Converted: C:/Users/User/Box/UTD/PhD Research/RAG-app/Current Cybersecurity Law/Federal\\Federal Legislation\\Cybersecurity and Infrastructure Security Agency\\_ 677. Sense of Congress [Effective until November 15, 2028].docx to C:/Users/User/Box/UTD/PhD Research/RAG-app/Current Cybersecurity Law/Federal\\Federal Legislation\\Cybersecurity and Infrastructure Security Agency\\_ 677. Sense of Congress [Effective until November 15, 2028].pdf\n"
     ]
    },
    {
     "data": {
      "application/vnd.jupyter.widget-view+json": {
       "model_id": "d2aa1a69b22743cab564d6792d7ab15b",
       "version_major": 2,
       "version_minor": 0
      },
      "text/plain": [
       "  0%|          | 0/1 [00:00<?, ?it/s]"
      ]
     },
     "metadata": {},
     "output_type": "display_data"
    },
    {
     "name": "stdout",
     "output_type": "stream",
     "text": [
      "Converted: C:/Users/User/Box/UTD/PhD Research/RAG-app/Current Cybersecurity Law/Federal\\Federal Legislation\\Cybersecurity and Infrastructure Security Agency\\_ 677a. Definitions [Effective until November 15, 2028].docx to C:/Users/User/Box/UTD/PhD Research/RAG-app/Current Cybersecurity Law/Federal\\Federal Legislation\\Cybersecurity and Infrastructure Security Agency\\_ 677a. Definitions [Effective until November 15, 2028].pdf\n"
     ]
    },
    {
     "data": {
      "application/vnd.jupyter.widget-view+json": {
       "model_id": "d1470fc05ced49a4b2d72acd60a720c2",
       "version_major": 2,
       "version_minor": 0
      },
      "text/plain": [
       "  0%|          | 0/1 [00:00<?, ?it/s]"
      ]
     },
     "metadata": {},
     "output_type": "display_data"
    },
    {
     "name": "stdout",
     "output_type": "stream",
     "text": [
      "Converted: C:/Users/User/Box/UTD/PhD Research/RAG-app/Current Cybersecurity Law/Federal\\Federal Legislation\\Cybersecurity and Infrastructure Security Agency\\_ 677b. Declaration [Effective until November 15, 2028].docx to C:/Users/User/Box/UTD/PhD Research/RAG-app/Current Cybersecurity Law/Federal\\Federal Legislation\\Cybersecurity and Infrastructure Security Agency\\_ 677b. Declaration [Effective until November 15, 2028].pdf\n"
     ]
    },
    {
     "data": {
      "application/vnd.jupyter.widget-view+json": {
       "model_id": "06a3834b9434484a8ab2500223c548ff",
       "version_major": 2,
       "version_minor": 0
      },
      "text/plain": [
       "  0%|          | 0/1 [00:00<?, ?it/s]"
      ]
     },
     "metadata": {},
     "output_type": "display_data"
    },
    {
     "name": "stdout",
     "output_type": "stream",
     "text": [
      "Converted: C:/Users/User/Box/UTD/PhD Research/RAG-app/Current Cybersecurity Law/Federal\\Federal Legislation\\Cybersecurity and Infrastructure Security Agency\\_ 677c. Cyber Response and Recovery Fund.docx to C:/Users/User/Box/UTD/PhD Research/RAG-app/Current Cybersecurity Law/Federal\\Federal Legislation\\Cybersecurity and Infrastructure Security Agency\\_ 677c. Cyber Response and Recovery Fund.pdf\n"
     ]
    },
    {
     "data": {
      "application/vnd.jupyter.widget-view+json": {
       "model_id": "a9ad3873a7ce4b5696fae8806dcf5f39",
       "version_major": 2,
       "version_minor": 0
      },
      "text/plain": [
       "  0%|          | 0/1 [00:00<?, ?it/s]"
      ]
     },
     "metadata": {},
     "output_type": "display_data"
    },
    {
     "name": "stdout",
     "output_type": "stream",
     "text": [
      "Converted: C:/Users/User/Box/UTD/PhD Research/RAG-app/Current Cybersecurity Law/Federal\\Federal Legislation\\Cybersecurity and Infrastructure Security Agency\\_ 677d. Notification and reporting.docx to C:/Users/User/Box/UTD/PhD Research/RAG-app/Current Cybersecurity Law/Federal\\Federal Legislation\\Cybersecurity and Infrastructure Security Agency\\_ 677d. Notification and reporting.pdf\n"
     ]
    },
    {
     "data": {
      "application/vnd.jupyter.widget-view+json": {
       "model_id": "ad53378994054f2e9f107982ce501c17",
       "version_major": 2,
       "version_minor": 0
      },
      "text/plain": [
       "  0%|          | 0/1 [00:00<?, ?it/s]"
      ]
     },
     "metadata": {},
     "output_type": "display_data"
    },
    {
     "name": "stdout",
     "output_type": "stream",
     "text": [
      "Converted: C:/Users/User/Box/UTD/PhD Research/RAG-app/Current Cybersecurity Law/Federal\\Federal Legislation\\Cybersecurity and Infrastructure Security Agency\\_ 677e. Rule of construction [Effective until November 15, 2028].docx to C:/Users/User/Box/UTD/PhD Research/RAG-app/Current Cybersecurity Law/Federal\\Federal Legislation\\Cybersecurity and Infrastructure Security Agency\\_ 677e. Rule of construction [Effective until November 15, 2028].pdf\n"
     ]
    },
    {
     "data": {
      "application/vnd.jupyter.widget-view+json": {
       "model_id": "80ccfd32dab24606adb265963fc24a28",
       "version_major": 2,
       "version_minor": 0
      },
      "text/plain": [
       "  0%|          | 0/1 [00:00<?, ?it/s]"
      ]
     },
     "metadata": {},
     "output_type": "display_data"
    },
    {
     "name": "stdout",
     "output_type": "stream",
     "text": [
      "Converted: C:/Users/User/Box/UTD/PhD Research/RAG-app/Current Cybersecurity Law/Federal\\Federal Legislation\\Cybersecurity and Infrastructure Security Agency\\_ 677f. Authorization of appropriation.docx to C:/Users/User/Box/UTD/PhD Research/RAG-app/Current Cybersecurity Law/Federal\\Federal Legislation\\Cybersecurity and Infrastructure Security Agency\\_ 677f. Authorization of appropriation.pdf\n"
     ]
    },
    {
     "data": {
      "application/vnd.jupyter.widget-view+json": {
       "model_id": "9edb5f3c4fab4501bdecba16e7d88670",
       "version_major": 2,
       "version_minor": 0
      },
      "text/plain": [
       "  0%|          | 0/1 [00:00<?, ?it/s]"
      ]
     },
     "metadata": {},
     "output_type": "display_data"
    },
    {
     "name": "stdout",
     "output_type": "stream",
     "text": [
      "Converted: C:/Users/User/Box/UTD/PhD Research/RAG-app/Current Cybersecurity Law/Federal\\Federal Legislation\\Cybersecurity and Infrastructure Security Agency\\_ 677g. Sunset.docx to C:/Users/User/Box/UTD/PhD Research/RAG-app/Current Cybersecurity Law/Federal\\Federal Legislation\\Cybersecurity and Infrastructure Security Agency\\_ 677g. Sunset.pdf\n"
     ]
    },
    {
     "data": {
      "application/vnd.jupyter.widget-view+json": {
       "model_id": "0346380090584c71ac1dc82345e05c2e",
       "version_major": 2,
       "version_minor": 0
      },
      "text/plain": [
       "  0%|          | 0/1 [00:00<?, ?it/s]"
      ]
     },
     "metadata": {},
     "output_type": "display_data"
    },
    {
     "name": "stdout",
     "output_type": "stream",
     "text": [
      "Converted: C:/Users/User/Box/UTD/PhD Research/RAG-app/Current Cybersecurity Law/Federal\\Federal Legislation\\Cybersecurity and Infrastructure Security Agency\\_ 681. Definitions.docx to C:/Users/User/Box/UTD/PhD Research/RAG-app/Current Cybersecurity Law/Federal\\Federal Legislation\\Cybersecurity and Infrastructure Security Agency\\_ 681. Definitions.pdf\n"
     ]
    },
    {
     "data": {
      "application/vnd.jupyter.widget-view+json": {
       "model_id": "86f2d6daa58b4bcfbdf88d6fd471e026",
       "version_major": 2,
       "version_minor": 0
      },
      "text/plain": [
       "  0%|          | 0/1 [00:00<?, ?it/s]"
      ]
     },
     "metadata": {},
     "output_type": "display_data"
    },
    {
     "name": "stdout",
     "output_type": "stream",
     "text": [
      "Converted: C:/Users/User/Box/UTD/PhD Research/RAG-app/Current Cybersecurity Law/Federal\\Federal Legislation\\Cybersecurity and Infrastructure Security Agency\\_ 681a. Cyber incident review.docx to C:/Users/User/Box/UTD/PhD Research/RAG-app/Current Cybersecurity Law/Federal\\Federal Legislation\\Cybersecurity and Infrastructure Security Agency\\_ 681a. Cyber incident review.pdf\n"
     ]
    },
    {
     "data": {
      "application/vnd.jupyter.widget-view+json": {
       "model_id": "15a9bcb8e6df4e58a3615d2b33f65c33",
       "version_major": 2,
       "version_minor": 0
      },
      "text/plain": [
       "  0%|          | 0/1 [00:00<?, ?it/s]"
      ]
     },
     "metadata": {},
     "output_type": "display_data"
    },
    {
     "name": "stdout",
     "output_type": "stream",
     "text": [
      "Converted: C:/Users/User/Box/UTD/PhD Research/RAG-app/Current Cybersecurity Law/Federal\\Federal Legislation\\Cybersecurity and Infrastructure Security Agency\\_ 681b. Required reporting of certain cyber incidents.docx to C:/Users/User/Box/UTD/PhD Research/RAG-app/Current Cybersecurity Law/Federal\\Federal Legislation\\Cybersecurity and Infrastructure Security Agency\\_ 681b. Required reporting of certain cyber incidents.pdf\n"
     ]
    },
    {
     "data": {
      "application/vnd.jupyter.widget-view+json": {
       "model_id": "1c4543f989e8476ba5a44aea0d76da9c",
       "version_major": 2,
       "version_minor": 0
      },
      "text/plain": [
       "  0%|          | 0/1 [00:00<?, ?it/s]"
      ]
     },
     "metadata": {},
     "output_type": "display_data"
    },
    {
     "name": "stdout",
     "output_type": "stream",
     "text": [
      "Converted: C:/Users/User/Box/UTD/PhD Research/RAG-app/Current Cybersecurity Law/Federal\\Federal Legislation\\Cybersecurity and Infrastructure Security Agency\\_ 681c. Voluntary reporting of other cyber incidents.docx to C:/Users/User/Box/UTD/PhD Research/RAG-app/Current Cybersecurity Law/Federal\\Federal Legislation\\Cybersecurity and Infrastructure Security Agency\\_ 681c. Voluntary reporting of other cyber incidents.pdf\n"
     ]
    },
    {
     "data": {
      "application/vnd.jupyter.widget-view+json": {
       "model_id": "243c75ed6528415ba9b85b391f08964c",
       "version_major": 2,
       "version_minor": 0
      },
      "text/plain": [
       "  0%|          | 0/1 [00:00<?, ?it/s]"
      ]
     },
     "metadata": {},
     "output_type": "display_data"
    },
    {
     "name": "stdout",
     "output_type": "stream",
     "text": [
      "Converted: C:/Users/User/Box/UTD/PhD Research/RAG-app/Current Cybersecurity Law/Federal\\Federal Legislation\\Cybersecurity and Infrastructure Security Agency\\_ 681d. Noncompliance with required reporting.docx to C:/Users/User/Box/UTD/PhD Research/RAG-app/Current Cybersecurity Law/Federal\\Federal Legislation\\Cybersecurity and Infrastructure Security Agency\\_ 681d. Noncompliance with required reporting.pdf\n"
     ]
    },
    {
     "data": {
      "application/vnd.jupyter.widget-view+json": {
       "model_id": "2d5a42616247494abc5a428ef3f2f82e",
       "version_major": 2,
       "version_minor": 0
      },
      "text/plain": [
       "  0%|          | 0/1 [00:00<?, ?it/s]"
      ]
     },
     "metadata": {},
     "output_type": "display_data"
    },
    {
     "name": "stdout",
     "output_type": "stream",
     "text": [
      "Converted: C:/Users/User/Box/UTD/PhD Research/RAG-app/Current Cybersecurity Law/Federal\\Federal Legislation\\Cybersecurity and Infrastructure Security Agency\\_ 681e. Information shared with or provided.docx to C:/Users/User/Box/UTD/PhD Research/RAG-app/Current Cybersecurity Law/Federal\\Federal Legislation\\Cybersecurity and Infrastructure Security Agency\\_ 681e. Information shared with or provided.pdf\n"
     ]
    },
    {
     "data": {
      "application/vnd.jupyter.widget-view+json": {
       "model_id": "c3f9ec3702a549e099dd6b28104d871b",
       "version_major": 2,
       "version_minor": 0
      },
      "text/plain": [
       "  0%|          | 0/1 [00:00<?, ?it/s]"
      ]
     },
     "metadata": {},
     "output_type": "display_data"
    },
    {
     "name": "stdout",
     "output_type": "stream",
     "text": [
      "Converted: C:/Users/User/Box/UTD/PhD Research/RAG-app/Current Cybersecurity Law/Federal\\Federal Legislation\\Cybersecurity and Infrastructure Security Agency\\_ 681f. Cyber Incident Reporting Council.docx to C:/Users/User/Box/UTD/PhD Research/RAG-app/Current Cybersecurity Law/Federal\\Federal Legislation\\Cybersecurity and Infrastructure Security Agency\\_ 681f. Cyber Incident Reporting Council.pdf\n"
     ]
    },
    {
     "data": {
      "application/vnd.jupyter.widget-view+json": {
       "model_id": "94c06143cc7b4d2888d62851a416d74a",
       "version_major": 2,
       "version_minor": 0
      },
      "text/plain": [
       "  0%|          | 0/1 [00:00<?, ?it/s]"
      ]
     },
     "metadata": {},
     "output_type": "display_data"
    },
    {
     "name": "stdout",
     "output_type": "stream",
     "text": [
      "Converted: C:/Users/User/Box/UTD/PhD Research/RAG-app/Current Cybersecurity Law/Federal\\Federal Legislation\\Cybersecurity and Infrastructure Security Agency\\_ 681g. Federal sharing of incident reports.docx to C:/Users/User/Box/UTD/PhD Research/RAG-app/Current Cybersecurity Law/Federal\\Federal Legislation\\Cybersecurity and Infrastructure Security Agency\\_ 681g. Federal sharing of incident reports.pdf\n"
     ]
    },
    {
     "data": {
      "application/vnd.jupyter.widget-view+json": {
       "model_id": "f95988a972cc4f0ab8421c9b26d1b76d",
       "version_major": 2,
       "version_minor": 0
      },
      "text/plain": [
       "  0%|          | 0/1 [00:00<?, ?it/s]"
      ]
     },
     "metadata": {},
     "output_type": "display_data"
    },
    {
     "name": "stdout",
     "output_type": "stream",
     "text": [
      "Converted: C:/Users/User/Box/UTD/PhD Research/RAG-app/Current Cybersecurity Law/Federal\\Federal Legislation\\Cybersecurity Information Sharing\\CYBERSECURITY INFORMATION SHARING.docx to C:/Users/User/Box/UTD/PhD Research/RAG-app/Current Cybersecurity Law/Federal\\Federal Legislation\\Cybersecurity Information Sharing\\CYBERSECURITY INFORMATION SHARING.pdf\n"
     ]
    },
    {
     "data": {
      "application/vnd.jupyter.widget-view+json": {
       "model_id": "46a190ef9f24482386ed43972b4c25ae",
       "version_major": 2,
       "version_minor": 0
      },
      "text/plain": [
       "  0%|          | 0/1 [00:00<?, ?it/s]"
      ]
     },
     "metadata": {},
     "output_type": "display_data"
    },
    {
     "name": "stdout",
     "output_type": "stream",
     "text": [
      "Converted: C:/Users/User/Box/UTD/PhD Research/RAG-app/Current Cybersecurity Law/Federal\\Federal Legislation\\Cybersecurity Information Sharing\\_ 1500. National Cyber Director.docx to C:/Users/User/Box/UTD/PhD Research/RAG-app/Current Cybersecurity Law/Federal\\Federal Legislation\\Cybersecurity Information Sharing\\_ 1500. National Cyber Director.pdf\n"
     ]
    },
    {
     "data": {
      "application/vnd.jupyter.widget-view+json": {
       "model_id": "fda19ca654f8423cb631f7146e7bf87e",
       "version_major": 2,
       "version_minor": 0
      },
      "text/plain": [
       "  0%|          | 0/1 [00:00<?, ?it/s]"
      ]
     },
     "metadata": {},
     "output_type": "display_data"
    },
    {
     "name": "stdout",
     "output_type": "stream",
     "text": [
      "Converted: C:/Users/User/Box/UTD/PhD Research/RAG-app/Current Cybersecurity Law/Federal\\Federal Legislation\\Cybersecurity Information Sharing\\_ 1501. Definitions.docx to C:/Users/User/Box/UTD/PhD Research/RAG-app/Current Cybersecurity Law/Federal\\Federal Legislation\\Cybersecurity Information Sharing\\_ 1501. Definitions.pdf\n"
     ]
    },
    {
     "data": {
      "application/vnd.jupyter.widget-view+json": {
       "model_id": "adffa62d8cd74ccaafeb9f6064192a0c",
       "version_major": 2,
       "version_minor": 0
      },
      "text/plain": [
       "  0%|          | 0/1 [00:00<?, ?it/s]"
      ]
     },
     "metadata": {},
     "output_type": "display_data"
    },
    {
     "name": "stdout",
     "output_type": "stream",
     "text": [
      "Converted: C:/Users/User/Box/UTD/PhD Research/RAG-app/Current Cybersecurity Law/Federal\\Federal Legislation\\Cybersecurity Information Sharing\\_ 1502. Sharing of information by the Federal government.docx to C:/Users/User/Box/UTD/PhD Research/RAG-app/Current Cybersecurity Law/Federal\\Federal Legislation\\Cybersecurity Information Sharing\\_ 1502. Sharing of information by the Federal government.pdf\n"
     ]
    },
    {
     "data": {
      "application/vnd.jupyter.widget-view+json": {
       "model_id": "a966cc691c6b487ab6bba209d7a181a2",
       "version_major": 2,
       "version_minor": 0
      },
      "text/plain": [
       "  0%|          | 0/1 [00:00<?, ?it/s]"
      ]
     },
     "metadata": {},
     "output_type": "display_data"
    },
    {
     "name": "stdout",
     "output_type": "stream",
     "text": [
      "Converted: C:/Users/User/Box/UTD/PhD Research/RAG-app/Current Cybersecurity Law/Federal\\Federal Legislation\\Cybersecurity Information Sharing\\_ 1503. Authorizations for preventing,.docx to C:/Users/User/Box/UTD/PhD Research/RAG-app/Current Cybersecurity Law/Federal\\Federal Legislation\\Cybersecurity Information Sharing\\_ 1503. Authorizations for preventing,.pdf\n"
     ]
    },
    {
     "data": {
      "application/vnd.jupyter.widget-view+json": {
       "model_id": "7bd6e1d7275e423994cb535fa5069a1f",
       "version_major": 2,
       "version_minor": 0
      },
      "text/plain": [
       "  0%|          | 0/1 [00:00<?, ?it/s]"
      ]
     },
     "metadata": {},
     "output_type": "display_data"
    },
    {
     "name": "stdout",
     "output_type": "stream",
     "text": [
      "Converted: C:/Users/User/Box/UTD/PhD Research/RAG-app/Current Cybersecurity Law/Federal\\Federal Legislation\\Cybersecurity Information Sharing\\_ 1504. Sharing of cyber threat indicators and defensive.docx to C:/Users/User/Box/UTD/PhD Research/RAG-app/Current Cybersecurity Law/Federal\\Federal Legislation\\Cybersecurity Information Sharing\\_ 1504. Sharing of cyber threat indicators and defensive.pdf\n"
     ]
    },
    {
     "data": {
      "application/vnd.jupyter.widget-view+json": {
       "model_id": "1b95ff6036ca4ec0ac5642dfc704249b",
       "version_major": 2,
       "version_minor": 0
      },
      "text/plain": [
       "  0%|          | 0/1 [00:00<?, ?it/s]"
      ]
     },
     "metadata": {},
     "output_type": "display_data"
    },
    {
     "name": "stdout",
     "output_type": "stream",
     "text": [
      "Converted: C:/Users/User/Box/UTD/PhD Research/RAG-app/Current Cybersecurity Law/Federal\\Federal Legislation\\Cybersecurity Information Sharing\\_ 1505. Protection from liability.docx to C:/Users/User/Box/UTD/PhD Research/RAG-app/Current Cybersecurity Law/Federal\\Federal Legislation\\Cybersecurity Information Sharing\\_ 1505. Protection from liability.pdf\n"
     ]
    },
    {
     "data": {
      "application/vnd.jupyter.widget-view+json": {
       "model_id": "1b35e009daca4ac2997ed77def7df509",
       "version_major": 2,
       "version_minor": 0
      },
      "text/plain": [
       "  0%|          | 0/1 [00:00<?, ?it/s]"
      ]
     },
     "metadata": {},
     "output_type": "display_data"
    },
    {
     "name": "stdout",
     "output_type": "stream",
     "text": [
      "Converted: C:/Users/User/Box/UTD/PhD Research/RAG-app/Current Cybersecurity Law/Federal\\Federal Legislation\\Cybersecurity Information Sharing\\_ 1506. Oversight of government activities.docx to C:/Users/User/Box/UTD/PhD Research/RAG-app/Current Cybersecurity Law/Federal\\Federal Legislation\\Cybersecurity Information Sharing\\_ 1506. Oversight of government activities.pdf\n"
     ]
    },
    {
     "data": {
      "application/vnd.jupyter.widget-view+json": {
       "model_id": "ccea223976e544d19738bda30ad198ba",
       "version_major": 2,
       "version_minor": 0
      },
      "text/plain": [
       "  0%|          | 0/1 [00:00<?, ?it/s]"
      ]
     },
     "metadata": {},
     "output_type": "display_data"
    },
    {
     "name": "stdout",
     "output_type": "stream",
     "text": [
      "Converted: C:/Users/User/Box/UTD/PhD Research/RAG-app/Current Cybersecurity Law/Federal\\Federal Legislation\\Cybersecurity Information Sharing\\_ 1507. Construction and preemption.docx to C:/Users/User/Box/UTD/PhD Research/RAG-app/Current Cybersecurity Law/Federal\\Federal Legislation\\Cybersecurity Information Sharing\\_ 1507. Construction and preemption.pdf\n"
     ]
    },
    {
     "data": {
      "application/vnd.jupyter.widget-view+json": {
       "model_id": "af81d5eef35540399e7f1c99dad4acd3",
       "version_major": 2,
       "version_minor": 0
      },
      "text/plain": [
       "  0%|          | 0/1 [00:00<?, ?it/s]"
      ]
     },
     "metadata": {},
     "output_type": "display_data"
    },
    {
     "name": "stdout",
     "output_type": "stream",
     "text": [
      "Converted: C:/Users/User/Box/UTD/PhD Research/RAG-app/Current Cybersecurity Law/Federal\\Federal Legislation\\Cybersecurity Information Sharing\\_ 1508. Report on cybersecurity threats.docx to C:/Users/User/Box/UTD/PhD Research/RAG-app/Current Cybersecurity Law/Federal\\Federal Legislation\\Cybersecurity Information Sharing\\_ 1508. Report on cybersecurity threats.pdf\n"
     ]
    },
    {
     "data": {
      "application/vnd.jupyter.widget-view+json": {
       "model_id": "1f44f8e823d248608adb4a15cde2d352",
       "version_major": 2,
       "version_minor": 0
      },
      "text/plain": [
       "  0%|          | 0/1 [00:00<?, ?it/s]"
      ]
     },
     "metadata": {},
     "output_type": "display_data"
    },
    {
     "name": "stdout",
     "output_type": "stream",
     "text": [
      "Converted: C:/Users/User/Box/UTD/PhD Research/RAG-app/Current Cybersecurity Law/Federal\\Federal Legislation\\Cybersecurity Information Sharing\\_ 1509. Exception to limitation on authority of Secretary of Defense.docx to C:/Users/User/Box/UTD/PhD Research/RAG-app/Current Cybersecurity Law/Federal\\Federal Legislation\\Cybersecurity Information Sharing\\_ 1509. Exception to limitation on authority of Secretary of Defense.pdf\n"
     ]
    },
    {
     "data": {
      "application/vnd.jupyter.widget-view+json": {
       "model_id": "9143bb3d055948a3a15795817ffd1cf9",
       "version_major": 2,
       "version_minor": 0
      },
      "text/plain": [
       "  0%|          | 0/1 [00:00<?, ?it/s]"
      ]
     },
     "metadata": {},
     "output_type": "display_data"
    },
    {
     "name": "stdout",
     "output_type": "stream",
     "text": [
      "Converted: C:/Users/User/Box/UTD/PhD Research/RAG-app/Current Cybersecurity Law/Federal\\Federal Legislation\\Cybersecurity Information Sharing\\_ 1510. Effective period.docx to C:/Users/User/Box/UTD/PhD Research/RAG-app/Current Cybersecurity Law/Federal\\Federal Legislation\\Cybersecurity Information Sharing\\_ 1510. Effective period.pdf\n"
     ]
    },
    {
     "data": {
      "application/vnd.jupyter.widget-view+json": {
       "model_id": "a2ea8a53c5124ee289be8804a2e9585b",
       "version_major": 2,
       "version_minor": 0
      },
      "text/plain": [
       "  0%|          | 0/1 [00:00<?, ?it/s]"
      ]
     },
     "metadata": {},
     "output_type": "display_data"
    },
    {
     "name": "stdout",
     "output_type": "stream",
     "text": [
      "Converted: C:/Users/User/Box/UTD/PhD Research/RAG-app/Current Cybersecurity Law/Federal\\Federal Legislation\\Federal Coordination of Federal Information Policy - Information Security (FISMA)\\_ 3551. Purposes.docx to C:/Users/User/Box/UTD/PhD Research/RAG-app/Current Cybersecurity Law/Federal\\Federal Legislation\\Federal Coordination of Federal Information Policy - Information Security (FISMA)\\_ 3551. Purposes.pdf\n"
     ]
    },
    {
     "data": {
      "application/vnd.jupyter.widget-view+json": {
       "model_id": "49a3525b27da401692361c99508fd359",
       "version_major": 2,
       "version_minor": 0
      },
      "text/plain": [
       "  0%|          | 0/1 [00:00<?, ?it/s]"
      ]
     },
     "metadata": {},
     "output_type": "display_data"
    },
    {
     "name": "stdout",
     "output_type": "stream",
     "text": [
      "Converted: C:/Users/User/Box/UTD/PhD Research/RAG-app/Current Cybersecurity Law/Federal\\Federal Legislation\\Federal Coordination of Federal Information Policy - Information Security (FISMA)\\_ 3552. Definitions.docx to C:/Users/User/Box/UTD/PhD Research/RAG-app/Current Cybersecurity Law/Federal\\Federal Legislation\\Federal Coordination of Federal Information Policy - Information Security (FISMA)\\_ 3552. Definitions.pdf\n"
     ]
    },
    {
     "data": {
      "application/vnd.jupyter.widget-view+json": {
       "model_id": "de797b4c6dac4e728ac34cd2519bdbca",
       "version_major": 2,
       "version_minor": 0
      },
      "text/plain": [
       "  0%|          | 0/1 [00:00<?, ?it/s]"
      ]
     },
     "metadata": {},
     "output_type": "display_data"
    },
    {
     "name": "stdout",
     "output_type": "stream",
     "text": [
      "Converted: C:/Users/User/Box/UTD/PhD Research/RAG-app/Current Cybersecurity Law/Federal\\Federal Legislation\\Federal Coordination of Federal Information Policy - Information Security (FISMA)\\_ 3553. Authority and functions of the Director.docx to C:/Users/User/Box/UTD/PhD Research/RAG-app/Current Cybersecurity Law/Federal\\Federal Legislation\\Federal Coordination of Federal Information Policy - Information Security (FISMA)\\_ 3553. Authority and functions of the Director.pdf\n"
     ]
    },
    {
     "data": {
      "application/vnd.jupyter.widget-view+json": {
       "model_id": "92f7ff47300e457a9d8c8c0b5d523684",
       "version_major": 2,
       "version_minor": 0
      },
      "text/plain": [
       "  0%|          | 0/1 [00:00<?, ?it/s]"
      ]
     },
     "metadata": {},
     "output_type": "display_data"
    },
    {
     "name": "stdout",
     "output_type": "stream",
     "text": [
      "Converted: C:/Users/User/Box/UTD/PhD Research/RAG-app/Current Cybersecurity Law/Federal\\Federal Legislation\\Federal Coordination of Federal Information Policy - Information Security (FISMA)\\_ 3554. Federal agency.docx to C:/Users/User/Box/UTD/PhD Research/RAG-app/Current Cybersecurity Law/Federal\\Federal Legislation\\Federal Coordination of Federal Information Policy - Information Security (FISMA)\\_ 3554. Federal agency.pdf\n"
     ]
    },
    {
     "data": {
      "application/vnd.jupyter.widget-view+json": {
       "model_id": "6757ca7f821448c1a44a1eef73e90156",
       "version_major": 2,
       "version_minor": 0
      },
      "text/plain": [
       "  0%|          | 0/1 [00:00<?, ?it/s]"
      ]
     },
     "metadata": {},
     "output_type": "display_data"
    },
    {
     "name": "stdout",
     "output_type": "stream",
     "text": [
      "Converted: C:/Users/User/Box/UTD/PhD Research/RAG-app/Current Cybersecurity Law/Federal\\Federal Legislation\\Federal Coordination of Federal Information Policy - Information Security (FISMA)\\_ 3555.docx to C:/Users/User/Box/UTD/PhD Research/RAG-app/Current Cybersecurity Law/Federal\\Federal Legislation\\Federal Coordination of Federal Information Policy - Information Security (FISMA)\\_ 3555.pdf\n"
     ]
    },
    {
     "data": {
      "application/vnd.jupyter.widget-view+json": {
       "model_id": "08cf81567ed74d339e34e20d3cda3da7",
       "version_major": 2,
       "version_minor": 0
      },
      "text/plain": [
       "  0%|          | 0/1 [00:00<?, ?it/s]"
      ]
     },
     "metadata": {},
     "output_type": "display_data"
    },
    {
     "name": "stdout",
     "output_type": "stream",
     "text": [
      "Converted: C:/Users/User/Box/UTD/PhD Research/RAG-app/Current Cybersecurity Law/Federal\\Federal Legislation\\Federal Coordination of Federal Information Policy - Information Security (FISMA)\\_ 3556.docx to C:/Users/User/Box/UTD/PhD Research/RAG-app/Current Cybersecurity Law/Federal\\Federal Legislation\\Federal Coordination of Federal Information Policy - Information Security (FISMA)\\_ 3556.pdf\n"
     ]
    },
    {
     "data": {
      "application/vnd.jupyter.widget-view+json": {
       "model_id": "ca24712de1f2451c9e2dbb4c05b3c541",
       "version_major": 2,
       "version_minor": 0
      },
      "text/plain": [
       "  0%|          | 0/1 [00:00<?, ?it/s]"
      ]
     },
     "metadata": {},
     "output_type": "display_data"
    },
    {
     "name": "stdout",
     "output_type": "stream",
     "text": [
      "Converted: C:/Users/User/Box/UTD/PhD Research/RAG-app/Current Cybersecurity Law/Federal\\Federal Legislation\\Federal Coordination of Federal Information Policy - Information Security (FISMA)\\_ 3557. National security systems.docx to C:/Users/User/Box/UTD/PhD Research/RAG-app/Current Cybersecurity Law/Federal\\Federal Legislation\\Federal Coordination of Federal Information Policy - Information Security (FISMA)\\_ 3557. National security systems.pdf\n"
     ]
    },
    {
     "data": {
      "application/vnd.jupyter.widget-view+json": {
       "model_id": "ab43827bd5ef467eb78d86174914c79d",
       "version_major": 2,
       "version_minor": 0
      },
      "text/plain": [
       "  0%|          | 0/1 [00:00<?, ?it/s]"
      ]
     },
     "metadata": {},
     "output_type": "display_data"
    },
    {
     "name": "stdout",
     "output_type": "stream",
     "text": [
      "Converted: C:/Users/User/Box/UTD/PhD Research/RAG-app/Current Cybersecurity Law/Federal\\Federal Legislation\\Federal Coordination of Federal Information Policy - Information Security (FISMA)\\_ 3558. Effect on existing law.docx to C:/Users/User/Box/UTD/PhD Research/RAG-app/Current Cybersecurity Law/Federal\\Federal Legislation\\Federal Coordination of Federal Information Policy - Information Security (FISMA)\\_ 3558. Effect on existing law.pdf\n"
     ]
    },
    {
     "data": {
      "application/vnd.jupyter.widget-view+json": {
       "model_id": "bf150b0d109b47cbbc8476c85638d177",
       "version_major": 2,
       "version_minor": 0
      },
      "text/plain": [
       "  0%|          | 0/1 [00:00<?, ?it/s]"
      ]
     },
     "metadata": {},
     "output_type": "display_data"
    },
    {
     "name": "stdout",
     "output_type": "stream",
     "text": [
      "Converted: C:/Users/User/Box/UTD/PhD Research/RAG-app/Current Cybersecurity Law/Federal\\Federal Legislation\\Federal Coordination of Federal Information Policy - Information Security (FISMA)\\_ 3559.docx to C:/Users/User/Box/UTD/PhD Research/RAG-app/Current Cybersecurity Law/Federal\\Federal Legislation\\Federal Coordination of Federal Information Policy - Information Security (FISMA)\\_ 3559.pdf\n"
     ]
    },
    {
     "data": {
      "application/vnd.jupyter.widget-view+json": {
       "model_id": "434df9cebe184f5e9459dd296b31692d",
       "version_major": 2,
       "version_minor": 0
      },
      "text/plain": [
       "  0%|          | 0/1 [00:00<?, ?it/s]"
      ]
     },
     "metadata": {},
     "output_type": "display_data"
    },
    {
     "name": "stdout",
     "output_type": "stream",
     "text": [
      "Converted: C:/Users/User/Box/UTD/PhD Research/RAG-app/Current Cybersecurity Law/Federal\\Federal Legislation\\Federal Cybersecurity Enhancement\\_ 1521. Definitions.docx to C:/Users/User/Box/UTD/PhD Research/RAG-app/Current Cybersecurity Law/Federal\\Federal Legislation\\Federal Cybersecurity Enhancement\\_ 1521. Definitions.pdf\n"
     ]
    },
    {
     "data": {
      "application/vnd.jupyter.widget-view+json": {
       "model_id": "301754824aad48478b0fdcbb04b91798",
       "version_major": 2,
       "version_minor": 0
      },
      "text/plain": [
       "  0%|          | 0/1 [00:00<?, ?it/s]"
      ]
     },
     "metadata": {},
     "output_type": "display_data"
    },
    {
     "name": "stdout",
     "output_type": "stream",
     "text": [
      "Converted: C:/Users/User/Box/UTD/PhD Research/RAG-app/Current Cybersecurity Law/Federal\\Federal Legislation\\Federal Cybersecurity Enhancement\\_ 1522. Advanced internal defenses.docx to C:/Users/User/Box/UTD/PhD Research/RAG-app/Current Cybersecurity Law/Federal\\Federal Legislation\\Federal Cybersecurity Enhancement\\_ 1522. Advanced internal defenses.pdf\n"
     ]
    },
    {
     "data": {
      "application/vnd.jupyter.widget-view+json": {
       "model_id": "1dfe58308b0e40829ebad3c7d2cf6ec8",
       "version_major": 2,
       "version_minor": 0
      },
      "text/plain": [
       "  0%|          | 0/1 [00:00<?, ?it/s]"
      ]
     },
     "metadata": {},
     "output_type": "display_data"
    },
    {
     "name": "stdout",
     "output_type": "stream",
     "text": [
      "Converted: C:/Users/User/Box/UTD/PhD Research/RAG-app/Current Cybersecurity Law/Federal\\Federal Legislation\\Federal Cybersecurity Enhancement\\_ 1523. Federal cybersecurity requirements.docx to C:/Users/User/Box/UTD/PhD Research/RAG-app/Current Cybersecurity Law/Federal\\Federal Legislation\\Federal Cybersecurity Enhancement\\_ 1523. Federal cybersecurity requirements.pdf\n"
     ]
    },
    {
     "data": {
      "application/vnd.jupyter.widget-view+json": {
       "model_id": "da7a6a935ea041e19d16f56746d82e32",
       "version_major": 2,
       "version_minor": 0
      },
      "text/plain": [
       "  0%|          | 0/1 [00:00<?, ?it/s]"
      ]
     },
     "metadata": {},
     "output_type": "display_data"
    },
    {
     "name": "stdout",
     "output_type": "stream",
     "text": [
      "Converted: C:/Users/User/Box/UTD/PhD Research/RAG-app/Current Cybersecurity Law/Federal\\Federal Legislation\\Federal Cybersecurity Enhancement\\_ 1524. Assessment; reports.docx to C:/Users/User/Box/UTD/PhD Research/RAG-app/Current Cybersecurity Law/Federal\\Federal Legislation\\Federal Cybersecurity Enhancement\\_ 1524. Assessment; reports.pdf\n"
     ]
    },
    {
     "data": {
      "application/vnd.jupyter.widget-view+json": {
       "model_id": "0c6f24806575417383333d05e0930778",
       "version_major": 2,
       "version_minor": 0
      },
      "text/plain": [
       "  0%|          | 0/1 [00:00<?, ?it/s]"
      ]
     },
     "metadata": {},
     "output_type": "display_data"
    },
    {
     "name": "stdout",
     "output_type": "stream",
     "text": [
      "Converted: C:/Users/User/Box/UTD/PhD Research/RAG-app/Current Cybersecurity Law/Federal\\Federal Legislation\\Federal Cybersecurity Enhancement\\_ 1525. Termination.docx to C:/Users/User/Box/UTD/PhD Research/RAG-app/Current Cybersecurity Law/Federal\\Federal Legislation\\Federal Cybersecurity Enhancement\\_ 1525. Termination.pdf\n"
     ]
    },
    {
     "data": {
      "application/vnd.jupyter.widget-view+json": {
       "model_id": "c7ed64a4b6994f0aac1586dbbdf72e56",
       "version_major": 2,
       "version_minor": 0
      },
      "text/plain": [
       "  0%|          | 0/1 [00:00<?, ?it/s]"
      ]
     },
     "metadata": {},
     "output_type": "display_data"
    },
    {
     "name": "stdout",
     "output_type": "stream",
     "text": [
      "Converted: C:/Users/User/Box/UTD/PhD Research/RAG-app/Current Cybersecurity Law/Federal\\Federal Legislation\\Federal Cybersecurity Enhancement\\_ 1526.docx to C:/Users/User/Box/UTD/PhD Research/RAG-app/Current Cybersecurity Law/Federal\\Federal Legislation\\Federal Cybersecurity Enhancement\\_ 1526.pdf\n"
     ]
    },
    {
     "data": {
      "application/vnd.jupyter.widget-view+json": {
       "model_id": "16da69f9950946759443f6db05cf3b70",
       "version_major": 2,
       "version_minor": 0
      },
      "text/plain": [
       "  0%|          | 0/1 [00:00<?, ?it/s]"
      ]
     },
     "metadata": {},
     "output_type": "display_data"
    },
    {
     "name": "stdout",
     "output_type": "stream",
     "text": [
      "Converted: C:/Users/User/Box/UTD/PhD Research/RAG-app/Current Cybersecurity Law/Federal\\Federal Legislation\\Health Insurance Portability and Accountability Act of 1996 (HIPAA)\\HEALTH INSURANCE PORTABILITY.docx to C:/Users/User/Box/UTD/PhD Research/RAG-app/Current Cybersecurity Law/Federal\\Federal Legislation\\Health Insurance Portability and Accountability Act of 1996 (HIPAA)\\HEALTH INSURANCE PORTABILITY.pdf\n"
     ]
    },
    {
     "data": {
      "application/vnd.jupyter.widget-view+json": {
       "model_id": "cb880003c2234e9a9819247e8dc836cd",
       "version_major": 2,
       "version_minor": 0
      },
      "text/plain": [
       "  0%|          | 0/1 [00:00<?, ?it/s]"
      ]
     },
     "metadata": {},
     "output_type": "display_data"
    },
    {
     "name": "stdout",
     "output_type": "stream",
     "text": [
      "Converted: C:/Users/User/Box/UTD/PhD Research/RAG-app/Current Cybersecurity Law/Federal\\Federal Legislation\\Other Cyber Matters\\_ 1531. Apprehension and prosecution of international cyber criminals.docx to C:/Users/User/Box/UTD/PhD Research/RAG-app/Current Cybersecurity Law/Federal\\Federal Legislation\\Other Cyber Matters\\_ 1531. Apprehension and prosecution of international cyber criminals.pdf\n"
     ]
    },
    {
     "data": {
      "application/vnd.jupyter.widget-view+json": {
       "model_id": "fb0dfaa7543a44d68f45c6f2bd632837",
       "version_major": 2,
       "version_minor": 0
      },
      "text/plain": [
       "  0%|          | 0/1 [00:00<?, ?it/s]"
      ]
     },
     "metadata": {},
     "output_type": "display_data"
    },
    {
     "name": "stdout",
     "output_type": "stream",
     "text": [
      "Converted: C:/Users/User/Box/UTD/PhD Research/RAG-app/Current Cybersecurity Law/Federal\\Federal Legislation\\Other Cyber Matters\\_ 1532. Enhancement of emergency services.docx to C:/Users/User/Box/UTD/PhD Research/RAG-app/Current Cybersecurity Law/Federal\\Federal Legislation\\Other Cyber Matters\\_ 1532. Enhancement of emergency services.pdf\n"
     ]
    },
    {
     "data": {
      "application/vnd.jupyter.widget-view+json": {
       "model_id": "a9c265e899ff416492f5efd04c0082b5",
       "version_major": 2,
       "version_minor": 0
      },
      "text/plain": [
       "  0%|          | 0/1 [00:00<?, ?it/s]"
      ]
     },
     "metadata": {},
     "output_type": "display_data"
    },
    {
     "name": "stdout",
     "output_type": "stream",
     "text": [
      "Converted: C:/Users/User/Box/UTD/PhD Research/RAG-app/Current Cybersecurity Law/Federal\\Federal Legislation\\Other Cyber Matters\\_ 1533. Improving cybersecurity in the health care industry.docx to C:/Users/User/Box/UTD/PhD Research/RAG-app/Current Cybersecurity Law/Federal\\Federal Legislation\\Other Cyber Matters\\_ 1533. Improving cybersecurity in the health care industry.pdf\n"
     ]
    },
    {
     "data": {
      "application/vnd.jupyter.widget-view+json": {
       "model_id": "7d4d5dd9db25448c8c9522dd6361c83a",
       "version_major": 2,
       "version_minor": 0
      },
      "text/plain": [
       "  0%|          | 0/1 [00:00<?, ?it/s]"
      ]
     },
     "metadata": {},
     "output_type": "display_data"
    },
    {
     "name": "stdout",
     "output_type": "stream",
     "text": [
      "Converted: C:/Users/User/Box/UTD/PhD Research/RAG-app/Current Cybersecurity Law/Federal\\Federal Legislation\\Other Cyber Matters\\_ 1534. Cybercrime.docx to C:/Users/User/Box/UTD/PhD Research/RAG-app/Current Cybersecurity Law/Federal\\Federal Legislation\\Other Cyber Matters\\_ 1534. Cybercrime.pdf\n"
     ]
    },
    {
     "data": {
      "application/vnd.jupyter.widget-view+json": {
       "model_id": "6653036476f347999edb573dbe7b29f4",
       "version_major": 2,
       "version_minor": 0
      },
      "text/plain": [
       "  0%|          | 0/1 [00:00<?, ?it/s]"
      ]
     },
     "metadata": {},
     "output_type": "display_data"
    },
    {
     "name": "stdout",
     "output_type": "stream",
     "text": [
      "Converted: C:/Users/User/Box/UTD/PhD Research/RAG-app/Current Cybersecurity Law/Federal\\Federal Legislation\\Privacy Act of 1974\\5 USCS § 552a.docx to C:/Users/User/Box/UTD/PhD Research/RAG-app/Current Cybersecurity Law/Federal\\Federal Legislation\\Privacy Act of 1974\\5 USCS § 552a.pdf\n"
     ]
    }
   ],
   "source": [
    "import os\n",
    "from docx2pdf import convert\n",
    "\n",
    "def convert_docs_to_pdf(root_dir):\n",
    "    for subdir, dirs, files in os.walk(root_dir):\n",
    "        for file in files:\n",
    "            if file.endswith(\".docx\") :\n",
    "                docx_path = os.path.join(subdir, file)\n",
    "                pdf_path = os.path.splitext(docx_path)[0] + \".pdf\"\n",
    "                if not os.path.exists(pdf_path):\n",
    "                    convert(docx_path, pdf_path)\n",
    "                    print(f\"Converted: {docx_path} to {pdf_path}\")\n",
    "\n",
    "# Change the directory path accordingly\n",
    "convert_docs_to_pdf(root_directory)\n"
   ]
  },
  {
   "cell_type": "code",
   "execution_count": null,
   "metadata": {},
   "outputs": [],
   "source": []
  }
 ],
 "metadata": {
  "kernelspec": {
   "display_name": "Python 3",
   "language": "python",
   "name": "python3"
  },
  "language_info": {
   "codemirror_mode": {
    "name": "ipython",
    "version": 3
   },
   "file_extension": ".py",
   "mimetype": "text/x-python",
   "name": "python",
   "nbconvert_exporter": "python",
   "pygments_lexer": "ipython3",
   "version": "3.11.5"
  }
 },
 "nbformat": 4,
 "nbformat_minor": 2
}
