{
 "cells": [
  {
   "cell_type": "code",
   "execution_count": 1,
   "metadata": {},
   "outputs": [],
   "source": [
    "source = \"./Current Cybersecurity Law/\"\n",
    "dest = \"./Current Cybersecurity Law Texts/\""
   ]
  },
  {
   "cell_type": "code",
   "execution_count": 2,
   "metadata": {},
   "outputs": [],
   "source": [
    "import os\n",
    "import glob\n",
    "\n",
    "def get_pdfs(root_folder):\n",
    "    pdf_files = []\n",
    "    for foldername, subfolders, filenames in os.walk(root_folder):\n",
    "        for filename in filenames:\n",
    "            if filename.endswith('.pdf'):\n",
    "                pdf_files.append(os.path.join(foldername, filename))\n",
    "    return pdf_files"
   ]
  },
  {
   "cell_type": "code",
   "execution_count": 1,
   "metadata": {},
   "outputs": [
    {
     "name": "stdout",
     "output_type": "stream",
     "text": [
      "Defaulting to user installation because normal site-packages is not writeable\n",
      "Requirement already satisfied: PyPDF2 in c:\\users\\user\\appdata\\roaming\\python\\python311\\site-packages (3.0.1)\n"
     ]
    }
   ],
   "source": [
    "!python -m pip install PyPDF2"
   ]
  },
  {
   "cell_type": "code",
   "execution_count": 3,
   "metadata": {},
   "outputs": [],
   "source": [
    "import PyPDF2\n",
    "\n",
    "def read_pdf(file):\n",
    "    with open(file, 'rb') as file:\n",
    "        # Create a PDF reader object\n",
    "        pdf_reader = PyPDF2.PdfReader(file)\n",
    "\n",
    "        # Get the total number of pages in the PDF\n",
    "        num_pages = len(pdf_reader.pages)\n",
    "\n",
    "        pdf_text = \"\"\n",
    "\n",
    "        # Iterate through each page and extract text\n",
    "        for page_number in range(num_pages):\n",
    "            # Get a specific page\n",
    "            page = pdf_reader.pages[page_number]\n",
    "\n",
    "            # Extract text from the page\n",
    "            text = page.extract_text()\n",
    "            pdf_text += text\n",
    "\n",
    "            # Print the text\n",
    "            # print(\"Page\", page_number + 1)\n",
    "            # print(text)\n",
    "    return pdf_text"
   ]
  },
  {
   "cell_type": "code",
   "execution_count": null,
   "metadata": {},
   "outputs": [],
   "source": [
    "import os\n",
    "\n",
    "state_folders = os.listdir(source)\n",
    "\n",
    "for state_folder in state_folders:\n",
    "    print(state_folder)\n",
    "\n",
    "    folders = os.listdir(source+state_folder+'/')\n",
    "    for folder in folder:\n",
    "        print(\" \",folder)\n",
    "        # files = os.walk(data_folder+folder+'/')\n",
    "        # for file in files:\n",
    "        #     print(\"  \",file)"
   ]
  },
  {
   "cell_type": "code",
   "execution_count": 13,
   "metadata": {},
   "outputs": [
    {
     "name": "stdout",
     "output_type": "stream",
     "text": [
      "./Current Cybersecurity Law/Alabama\\Data Breach Notification Act\\Files(12).pdf\n"
     ]
    },
    {
     "ename": "FileNotFoundError",
     "evalue": "[Errno 2] No such file or directory: './Current Cybersecurity Law Texts/Alabama\\\\Data Breach Notification Act\\\\Files(12).txt'",
     "output_type": "error",
     "traceback": [
      "\u001b[1;31m---------------------------------------------------------------------------\u001b[0m",
      "\u001b[1;31mFileNotFoundError\u001b[0m                         Traceback (most recent call last)",
      "Cell \u001b[1;32mIn[13], line 17\u001b[0m\n\u001b[0;32m     14\u001b[0m         \u001b[38;5;28mprint\u001b[39m(text_file_path)\n\u001b[0;32m     15\u001b[0m         \u001b[38;5;28;01mbreak\u001b[39;00m\n\u001b[1;32m---> 17\u001b[0m \u001b[43mpdfs_to_texts\u001b[49m\u001b[43m(\u001b[49m\u001b[43msource\u001b[49m\u001b[43m,\u001b[49m\u001b[43mdest\u001b[49m\u001b[43m)\u001b[49m\n",
      "Cell \u001b[1;32mIn[13], line 11\u001b[0m, in \u001b[0;36mpdfs_to_texts\u001b[1;34m(source, dest)\u001b[0m\n\u001b[0;32m      9\u001b[0m text_file_path \u001b[38;5;241m=\u001b[39m pdf\u001b[38;5;241m.\u001b[39mreplace(source,dest)\u001b[38;5;241m.\u001b[39mreplace(\u001b[38;5;124m'\u001b[39m\u001b[38;5;124m.pdf\u001b[39m\u001b[38;5;124m'\u001b[39m,\u001b[38;5;124m'\u001b[39m\u001b[38;5;124m.txt\u001b[39m\u001b[38;5;124m'\u001b[39m)\n\u001b[0;32m     10\u001b[0m os\u001b[38;5;241m.\u001b[39mmakedirs(os\u001b[38;5;241m.\u001b[39mpath\u001b[38;5;241m.\u001b[39mjoin(dest, text_file_path), exist_ok\u001b[38;5;241m=\u001b[39m\u001b[38;5;28;01mTrue\u001b[39;00m)\n\u001b[1;32m---> 11\u001b[0m file \u001b[38;5;241m=\u001b[39m \u001b[38;5;28;43mopen\u001b[39;49m\u001b[43m(\u001b[49m\u001b[43mtext_file_path\u001b[49m\u001b[43m,\u001b[49m\u001b[38;5;124;43m'\u001b[39;49m\u001b[38;5;124;43mwt\u001b[39;49m\u001b[38;5;124;43m'\u001b[39;49m\u001b[43m)\u001b[49m\n\u001b[0;32m     12\u001b[0m file\u001b[38;5;241m.\u001b[39mwrite(pdf_text)\n\u001b[0;32m     13\u001b[0m file\u001b[38;5;241m.\u001b[39mclose()\n",
      "File \u001b[1;32m~\\AppData\\Roaming\\Python\\Python311\\site-packages\\IPython\\core\\interactiveshell.py:286\u001b[0m, in \u001b[0;36m_modified_open\u001b[1;34m(file, *args, **kwargs)\u001b[0m\n\u001b[0;32m    279\u001b[0m \u001b[38;5;28;01mif\u001b[39;00m file \u001b[38;5;129;01min\u001b[39;00m {\u001b[38;5;241m0\u001b[39m, \u001b[38;5;241m1\u001b[39m, \u001b[38;5;241m2\u001b[39m}:\n\u001b[0;32m    280\u001b[0m     \u001b[38;5;28;01mraise\u001b[39;00m \u001b[38;5;167;01mValueError\u001b[39;00m(\n\u001b[0;32m    281\u001b[0m         \u001b[38;5;124mf\u001b[39m\u001b[38;5;124m\"\u001b[39m\u001b[38;5;124mIPython won\u001b[39m\u001b[38;5;124m'\u001b[39m\u001b[38;5;124mt let you open fd=\u001b[39m\u001b[38;5;132;01m{\u001b[39;00mfile\u001b[38;5;132;01m}\u001b[39;00m\u001b[38;5;124m by default \u001b[39m\u001b[38;5;124m\"\u001b[39m\n\u001b[0;32m    282\u001b[0m         \u001b[38;5;124m\"\u001b[39m\u001b[38;5;124mas it is likely to crash IPython. If you know what you are doing, \u001b[39m\u001b[38;5;124m\"\u001b[39m\n\u001b[0;32m    283\u001b[0m         \u001b[38;5;124m\"\u001b[39m\u001b[38;5;124myou can use builtins\u001b[39m\u001b[38;5;124m'\u001b[39m\u001b[38;5;124m open.\u001b[39m\u001b[38;5;124m\"\u001b[39m\n\u001b[0;32m    284\u001b[0m     )\n\u001b[1;32m--> 286\u001b[0m \u001b[38;5;28;01mreturn\u001b[39;00m \u001b[43mio_open\u001b[49m\u001b[43m(\u001b[49m\u001b[43mfile\u001b[49m\u001b[43m,\u001b[49m\u001b[43m \u001b[49m\u001b[38;5;241;43m*\u001b[39;49m\u001b[43margs\u001b[49m\u001b[43m,\u001b[49m\u001b[43m \u001b[49m\u001b[38;5;241;43m*\u001b[39;49m\u001b[38;5;241;43m*\u001b[39;49m\u001b[43mkwargs\u001b[49m\u001b[43m)\u001b[49m\n",
      "\u001b[1;31mFileNotFoundError\u001b[0m: [Errno 2] No such file or directory: './Current Cybersecurity Law Texts/Alabama\\\\Data Breach Notification Act\\\\Files(12).txt'"
     ]
    }
   ],
   "source": [
    "def pdfs_to_texts(source,dest):\n",
    "    pdfs = get_pdfs(source)\n",
    "\n",
    "    for pdf in pdfs:\n",
    "        print(pdf)\n",
    "        pdf_text = read_pdf(pdf)\n",
    "        # print(pdf_text)\n",
    "\n",
    "        text_file_path = pdf.replace(source,dest).replace('.pdf','.txt')\n",
    "        \n",
    "        text_folder_path = text_file_path[:]\n",
    "        os.makedirs(os.path.join(dest, text_file_path), exist_ok=True)\n",
    "        file = open(text_file_path,'wt')\n",
    "        file.write(pdf_text)\n",
    "        file.close()\n",
    "        print(text_file_path)\n",
    "        break\n",
    "\n",
    "pdfs_to_texts(source,dest)"
   ]
  },
  {
   "cell_type": "code",
   "execution_count": 6,
   "metadata": {},
   "outputs": [
    {
     "name": "stdout",
     "output_type": "stream",
     "text": [
      "Total number of PDF files: 1795\n"
     ]
    }
   ],
   "source": [
    "import os\n",
    "\n",
    "def count_pdfs(root_folder):\n",
    "    pdf_count = 0\n",
    "\n",
    "    # Walk through the directory\n",
    "    for root, dirs, files in os.walk(root_folder):\n",
    "        # Count files with .pdf extension\n",
    "        pdf_count += len([file for file in files if file.lower().endswith('.pdf')])\n",
    "\n",
    "    return pdf_count\n",
    "\n",
    "# Specify the root folder to search\n",
    "root_folder = 'C:/Users/User/Box/UTD/PhD Research/RAG-app/Current Cybersecurity Law'\n",
    "\n",
    "# Get the count of PDF files\n",
    "pdf_count = count_pdfs(root_folder)\n",
    "\n",
    "print(f\"Total number of PDF files: {pdf_count}\")\n"
   ]
  }
 ],
 "metadata": {
  "kernelspec": {
   "display_name": "Python 3",
   "language": "python",
   "name": "python3"
  },
  "language_info": {
   "codemirror_mode": {
    "name": "ipython",
    "version": 3
   },
   "file_extension": ".py",
   "mimetype": "text/x-python",
   "name": "python",
   "nbconvert_exporter": "python",
   "pygments_lexer": "ipython3",
   "version": "3.11.5"
  }
 },
 "nbformat": 4,
 "nbformat_minor": 2
}
