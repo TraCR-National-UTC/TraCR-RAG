{
 "cells": [
  {
   "cell_type": "code",
   "execution_count": 8,
   "metadata": {},
   "outputs": [],
   "source": [
    "import pandas as pd\n",
    "\n",
    "df = pd.read_csv(\"../outputs/TraCR RAG - Responses - Compiled Questions.csv\")\n",
    "\n",
    "questions = df['question']\n",
    "\n",
    "# for i,ques in enumerate(questions):\n",
    "#   file = open(f'../outputs/TraCR RAG - Responses - Compiled Questions/Q{i+1}.txt','w')\n",
    "#   file.write(f'Q{i+1}. ' + ques + '\\n')\n",
    "#   file.write('Response:\\n')\n",
    "#   file.write(df['Response_1'][i].replace('\\n\\n','\\n')+ '\\n')\n",
    "#   file.close()\n",
    "#   print(i+1)\n"
   ]
  }
 ],
 "metadata": {
  "kernelspec": {
   "display_name": "Python 3",
   "language": "python",
   "name": "python3"
  },
  "language_info": {
   "codemirror_mode": {
    "name": "ipython",
    "version": 3
   },
   "file_extension": ".py",
   "mimetype": "text/x-python",
   "name": "python",
   "nbconvert_exporter": "python",
   "pygments_lexer": "ipython3",
   "version": "3.11.5"
  }
 },
 "nbformat": 4,
 "nbformat_minor": 2
}
