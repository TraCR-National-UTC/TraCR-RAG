{
 "cells": [
  {
   "cell_type": "code",
   "execution_count": 1,
   "metadata": {},
   "outputs": [
    {
     "name": "stdout",
     "output_type": "stream",
     "text": [
      "Defaulting to user installation because normal site-packages is not writeable\n"
     ]
    },
    {
     "name": "stderr",
     "output_type": "stream",
     "text": [
      "ERROR: Could not find a version that satisfies the requirement transformer (from versions: none)\n",
      "ERROR: No matching distribution found for transformer\n"
     ]
    },
    {
     "name": "stdout",
     "output_type": "stream",
     "text": [
      "Defaulting to user installation because normal site-packages is not writeable\n",
      "Requirement already satisfied: sklearn in c:\\users\\user\\appdata\\roaming\\python\\python311\\site-packages (0.0.post9)\n"
     ]
    }
   ],
   "source": [
    "!python -m pip install transformer\n",
    "!python -m pip install sklearn"
   ]
  },
  {
   "cell_type": "code",
   "execution_count": null,
   "metadata": {},
   "outputs": [],
   "source": [
    "from transformers import pipeline\n",
    "\n",
    "# Example using BERT-based similarity model\n",
    "similarity_pipeline = pipeline(\"feature-extraction\", model=\"bert-base-uncased\")\n",
    "\n",
    "response1 = \"Accessing and altering, damaging, or destroying any computer, computer system, or computer network; altering, damaging, deleting, or destroying computer programs or data; disclosing, using, controlling, or taking computer programs, data, or supporting documentation residing in, or existing internal or external to a computer, computer system, or network; directly or indirectly introducing a computer contaminator or a virus into any computer, computer system, or network; disrupting or causing the disruption of a computer, computer system, or network services or denying or causing the denial of computer or network services to any authorized user of a computer, computer system, or network; preventing a computer user from exiting a site, computer system, or network-connected location in order to compel the user’s computer to continue communicating with, connecting to, or displaying the content of the service, site, or system; obtaining any information that is required by law to be kept confidential or any records that are not public records by accessing any computer, computer system, or network that is operated by the state, a political subdivision of the state, or a medical institution; giving a password, identifying code, personal identification number, debit card number, bank account number, or other confidential information about a computer security system to another person without the consent of the person using the computer security system to restrict access to a computer, computer network, computer system, or data.\"\n",
    "response2 = '''A person who acts without authority or who exceeds authorization of use commits the crime\n",
    "of computer tampering by knowingly:\n",
    "(1) Accessing and altering, damaging, or destroying any computer, computer system, or\n",
    "computer network.\n",
    "(2) Altering, damaging, deleting, or destroying computer programs or data.\n",
    "(3) Disclosing, using, controlling, or taking computer programs, data, or supporting\n",
    "documentation residing in, or existing internal or external to, a computer, computer system, or\n",
    "network.\n",
    "(4) Directly or indirectly introducing a computer contaminator or a virus into any computer,\n",
    "computer system, or network.\n",
    "(5) Disrupting or causing the disruption of a computer, computer system, or network services\n",
    "or denying or causing the denial of computer or network services to any authorized user of a\n",
    "computer, computer system, or network.\n",
    "(6) Preventing a computer user from exiting a site, computer system, or network-connected\n",
    "location in order to compel the user’s computer to continue communicating with, connecting\n",
    "to, or displaying the content of the service, site, or system.\n",
    "(7) Obtaining any information that is required by law to be kept confidential or any records\n",
    "that are not public records by accessing any computer, computer system, or network that is\n",
    "operated by this state, a political subdivision of this state, or a medical institution.\n",
    "(8) Giving a password, identifying code, personal identification number, debit card number,\n",
    "bank account number, or other confidential information about a computer security system to\n",
    "another person without the consent of the person using the computer security system to restrict\n",
    "access to a computer, computer network, computer system, or data.'''\n",
    "\n",
    "embedding1 = similarity_pipeline(response1)[0]\n",
    "embedding2 = similarity_pipeline(response2)[0]\n",
    "\n",
    "# Calculate cosine similarity\n",
    "from sklearn.metrics.pairwise import cosine_similarity\n",
    "similarity = cosine_similarity([embedding1], [embedding2])[0][0]\n"
   ]
  }
 ],
 "metadata": {
  "kernelspec": {
   "display_name": "Python 3",
   "language": "python",
   "name": "python3"
  },
  "language_info": {
   "codemirror_mode": {
    "name": "ipython",
    "version": 3
   },
   "file_extension": ".py",
   "mimetype": "text/x-python",
   "name": "python",
   "nbconvert_exporter": "python",
   "pygments_lexer": "ipython3",
   "version": "3.11.5"
  }
 },
 "nbformat": 4,
 "nbformat_minor": 2
}
